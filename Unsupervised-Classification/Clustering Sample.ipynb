{
 "cells": [
  {
   "cell_type": "markdown",
   "id": "hindu-flood",
   "metadata": {},
   "source": [
    "### Set GPU"
   ]
  },
  {
   "cell_type": "code",
   "execution_count": 2,
   "id": "weighted-wiring",
   "metadata": {},
   "outputs": [],
   "source": [
    "import os\n",
    "os.environ['CUDA_VISIBLE_DEVICES'] = \"3\""
   ]
  },
  {
   "cell_type": "markdown",
   "id": "aware-oliver",
   "metadata": {},
   "source": [
    "### Set Dataset Name"
   ]
  },
  {
   "cell_type": "code",
   "execution_count": 3,
   "id": "local-stockholm",
   "metadata": {},
   "outputs": [],
   "source": [
    "dataset_name = 'CIFAR10'\n",
    "# dataset_name = 'CIFAR100'\n",
    "# dataset_name = 'MNIST'\n",
    "# dataset_name = 'TINYIMAGENET'"
   ]
  },
  {
   "cell_type": "markdown",
   "id": "excessive-marketplace",
   "metadata": {},
   "source": [
    "### Run All"
   ]
  },
  {
   "cell_type": "code",
   "execution_count": 4,
   "id": "hourly-miami",
   "metadata": {},
   "outputs": [],
   "source": [
    "import numpy as np\n",
    "import torch\n",
    "from tqdm import tqdm\n",
    "\n",
    "from models.resnet_cifar import resnet18\n",
    "from utils.config import create_config\n",
    "from utils.common_config import get_model"
   ]
  },
  {
   "cell_type": "code",
   "execution_count": 6,
   "id": "excellent-daisy",
   "metadata": {},
   "outputs": [],
   "source": [
    "output_folder = '../results/'\n",
    "if dataset_name == \"CIFAR10\":\n",
    "    output_folder += 'cifar-10/'\n",
    "    config_exp_path = './configs/pretext/simclr_cifar10.yml'\n",
    "    cfg_path = 'configs/CIFAR10_RESNET18.yaml'\n",
    "elif dataset_name == \"CIFAR100\":\n",
    "    output_folder += 'cifar-100/'\n",
    "    config_exp_path = './configs/pretext/simclr_cifar20.yml'\n",
    "    cfg_path = 'configs/CIFAR100_RESNET18.yaml'\n",
    "elif dataset_name == \"MNIST\":\n",
    "    output_folder += 'mnist/'\n",
    "    config_exp_path = './configs/pretext/simclr_mnist.yml'\n",
    "    cfg_path = 'configs/MNIST_RESNET18.yaml'\n",
    "elif dataset_name == \"TINYIMAGENET\":\n",
    "    output_folder += 'tinyimagenet/'\n",
    "    config_exp_path = './configs/pretext/simclr_tinyimagenet.yml'\n",
    "    cfg_path = 'configs/TINYIMAGENET_RESNET18.yaml'\n",
    "    \n",
    "path_to_file = output_folder + f'{dataset_name}_kmeans_cluster_ids.npy'"
   ]
  },
  {
   "cell_type": "code",
   "execution_count": 7,
   "id": "monetary-boulder",
   "metadata": {},
   "outputs": [],
   "source": [
    "cluster_ids = np.load(path_to_file)"
   ]
  },
  {
   "cell_type": "code",
   "execution_count": 9,
   "id": "velvet-terry",
   "metadata": {},
   "outputs": [
    {
     "data": {
      "text/plain": [
       "(50000,)"
      ]
     },
     "execution_count": 9,
     "metadata": {},
     "output_type": "execute_result"
    }
   ],
   "source": [
    "cluster_ids.shape"
   ]
  },
  {
   "cell_type": "code",
   "execution_count": 57,
   "id": "environmental-andrews",
   "metadata": {},
   "outputs": [],
   "source": [
    "budgetSize = 5000\n",
    "num_clusters = 10\n",
    "cluster_budgets = [int(budgetSize/num_clusters) for x in range(num_clusters)]"
   ]
  },
  {
   "cell_type": "code",
   "execution_count": 58,
   "id": "associate-formula",
   "metadata": {},
   "outputs": [
    {
     "data": {
      "text/plain": [
       "[500, 500, 500, 500, 500, 500, 500, 500, 500, 500]"
      ]
     },
     "execution_count": 58,
     "metadata": {},
     "output_type": "execute_result"
    }
   ],
   "source": [
    "cluster_budgets"
   ]
  },
  {
   "cell_type": "code",
   "execution_count": 49,
   "id": "behind-national",
   "metadata": {},
   "outputs": [],
   "source": [
    "groups = []\n",
    "for cluster_id in range(10):\n",
    "    groups.append(np.array([idx for idx, x in enumerate(cluster_ids) if x == cluster_id]))"
   ]
  },
  {
   "cell_type": "code",
   "execution_count": 50,
   "id": "international-marathon",
   "metadata": {},
   "outputs": [],
   "source": [
    "initSet = []\n",
    "uSet = []\n",
    "for idx, g in enumerate(groups):\n",
    "    np.random.shuffle(g)\n",
    "    initSet.extend(g[:cluster_budgets[idx]])\n",
    "    uSet.extend(g[c_budget:])"
   ]
  },
  {
   "cell_type": "code",
   "execution_count": 8,
   "id": "surgical-camel",
   "metadata": {},
   "outputs": [],
   "source": [
    "import argparse\n",
    "\n",
    "config_env_path = './configs/env.yml'\n",
    "p = create_config(config_env_path, config_exp_path)"
   ]
  },
  {
   "cell_type": "code",
   "execution_count": 9,
   "id": "intensive-empty",
   "metadata": {},
   "outputs": [],
   "source": [
    "model = get_model(p)\n",
    "model.load_state_dict(temp)\n",
    "model.eval()\n",
    "model.cuda();"
   ]
  },
  {
   "cell_type": "markdown",
   "id": "stone-track",
   "metadata": {},
   "source": [
    "### Creating a SimCLR Augmentation Dataset"
   ]
  },
  {
   "cell_type": "code",
   "execution_count": 10,
   "id": "neutral-brown",
   "metadata": {},
   "outputs": [],
   "source": [
    "# Owner of this file: Thalles Silva\n",
    "# Source: https://github.com/sthalles/PyTorch-BYOL\n",
    "import torch\n",
    "from torchvision import transforms\n",
    "import torch.nn as nn\n",
    "import numpy as np\n",
    "\n",
    "\n",
    "class GaussianBlur(object):\n",
    "    \"\"\"Blurs a single image on CPU\"\"\"\n",
    "\n",
    "    def __init__(self, kernel_size):\n",
    "        radias = kernel_size // 2\n",
    "        kernel_size = radias * 2 + 1\n",
    "        self.blur_h = nn.Conv2d(3, 3, kernel_size=(kernel_size, 1),\n",
    "                                stride=1, padding=0, bias=False, groups=3)\n",
    "        self.blur_v = nn.Conv2d(3, 3, kernel_size=(1, kernel_size),\n",
    "                                stride=1, padding=0, bias=False, groups=3)\n",
    "        self.k = kernel_size\n",
    "        self.r = radias\n",
    "\n",
    "        self.blur = nn.Sequential(\n",
    "            nn.ReflectionPad2d(radias),\n",
    "            self.blur_h,\n",
    "            self.blur_v\n",
    "        )\n",
    "\n",
    "        self.pil_to_tensor = transforms.ToTensor()\n",
    "        self.tensor_to_pil = transforms.ToPILImage()\n",
    "\n",
    "    def __call__(self, img):\n",
    "        img = self.pil_to_tensor(img).unsqueeze(0)\n",
    "\n",
    "        sigma = np.random.uniform(0.1, 2.0)\n",
    "        x = np.arange(-self.r, self.r + 1)\n",
    "        x = np.exp(-np.power(x, 2) / (2 * sigma * sigma))\n",
    "        x = x / x.sum()\n",
    "        x = torch.from_numpy(x).view(1, -1).repeat(3, 1)\n",
    "\n",
    "        self.blur_h.weight.data.copy_(x.view(3, 1, self.k, 1))\n",
    "        self.blur_v.weight.data.copy_(x.view(3, 1, 1, self.k))\n",
    "\n",
    "        with torch.no_grad():\n",
    "            img = self.blur(img)\n",
    "            img = img.squeeze()\n",
    "\n",
    "        img = self.tensor_to_pil(img)\n",
    "\n",
    "        return img"
   ]
  },
  {
   "cell_type": "code",
   "execution_count": 19,
   "id": "severe-monitor",
   "metadata": {},
   "outputs": [],
   "source": [
    "def gaussian_blur(im, input_shape):\n",
    "    \"\"\"Applies GaussianBlur to input image.\"\"\"\n",
    "    blur = GaussianBlur(kernel_size=int(0.1 * input_shape))\n",
    "    return Image.fromarray(np.uint8(blur(im))).convert(\"RGB\")\n",
    "\n",
    "\n",
    "def horizontal_flip(im):\n",
    "    \"\"\"Performs horizontal flip.\"\"\"\n",
    "    return Image.fromarray(np.uint8(im[:, ::-1, :])).convert(\"RGB\")\n",
    "\n",
    "def color_jitter(im):\n",
    "    \"\"\"Performs Color Jitter based on SimCLR paper.\"\"\"\n",
    "    s=1\n",
    "    im = Image.fromarray(np.uint8(im)).convert(\"RGB\")\n",
    "    color_jitter = transforms.ColorJitter(0.8 * s, 0.8 * s, 0.8 * s, 0.2 * s)\n",
    "    return Image.fromarray(np.uint8(color_jitter(im))).convert(\"RGB\")\n",
    "\n",
    "def gray_scale(im):\n",
    "    \"\"\"Converts the input image into a grayscale image.\"\"\"\n",
    "    gray = transforms.RandomGrayscale(p=1)\n",
    "    im = Image.fromarray(np.uint8(im)).convert(\"RGB\")\n",
    "    return Image.fromarray(np.uint8(gray(im))).convert(\"RGB\")"
   ]
  },
  {
   "cell_type": "code",
   "execution_count": 20,
   "id": "marine-spirit",
   "metadata": {},
   "outputs": [],
   "source": [
    "import torch\n",
    "import numpy as np\n",
    "from typing import Any, Tuple\n",
    "from PIL import Image\n",
    "import torchvision\n",
    "\n",
    "class SimCLRAugmentedDataset(torch.utils.data.Dataset):\n",
    "    \"\"\"\n",
    "    Gives a dataset with all SimCLR Augmentations for each image. \n",
    "    \n",
    "    Args:\n",
    "        name (string): Name of the dataset. E.g., 'CIFAR10', 'TINYIMAGENET', etc.\n",
    "        dataset (Dataset, optional): PyTorch Dataset object. \n",
    "        \n",
    "    \"\"\"\n",
    "    def __init__(self, name, dataset):\n",
    "        super(SimCLRAugmentedDataset, self).__init__()\n",
    "        self.name = name\n",
    "        self.dataset = dataset\n",
    "        if self.name in ['CIFAR10', 'CIAFR100', 'MNIST', 'SVHN']:\n",
    "            self.old_samples = self.dataset.data\n",
    "            self.labels = []\n",
    "        else: # Tiny ImageNet\n",
    "            self.old_samples = [item[0] for item in self.dataset.samples]\n",
    "            self.old_samples = [np.asarray(Image.open(img).convert(\"RGB\")) for img in self.old_samples]\n",
    "        self.data, self.targets = self.create_augmentations()\n",
    "        self.transform = self.dataset.transform\n",
    "        \n",
    "    def create_augmentations(self):\n",
    "        imgs, labels = [], []\n",
    "        for idx in tqdm(range(len(self.old_samples)), desc=\"Creating Augmented Dataset\"):\n",
    "            img = self.old_samples[idx]\n",
    "            augmented_imgs = [\n",
    "                img,\n",
    "                horizontal_flip(img),\n",
    "                gaussian_blur(img, img.shape[0]),\n",
    "                color_jitter(img),\n",
    "                gray_scale(img)\n",
    "            ]\n",
    "            augmented_labels = torch.LongTensor([self.dataset.targets[idx] for x in range(5)])\n",
    "            imgs.extend(augmented_imgs)\n",
    "            labels.extend(augmented_labels)\n",
    "        return imgs, labels\n",
    "    \n",
    "    def __len__(self):\n",
    "        return len(self.targets)\n",
    "    \n",
    "    def __repr__(self) -> str:\n",
    "        head = \"SimCLR Augmentated Dataset of \" + self.name \n",
    "        body = [\"Augmentations: GaussianBlur, ColorJitter, HorizontalFlip, GrayScale.\"]\n",
    "        body += [\"Number of datapoints (5 x original dataset): {}\".format(self.__len__())]\n",
    "        body += [\"Normalization Values:\"]\n",
    "        if self.transform is not None:\n",
    "            body += [repr(self.transform)]\n",
    "        lines = [head] + [\" \" + line for line in body]\n",
    "        return '\\n'.join(lines)\n",
    "    \n",
    "    def __getitem__(self, index: int) -> Tuple[Any, Any]:\n",
    "        \"\"\"\n",
    "        Args:\n",
    "            index (int): Index\n",
    "        Returns:\n",
    "            tuple: (image, target) where target is index of the target class.\n",
    "        \"\"\"\n",
    "        img, target = self.data[index], self.targets[index]\n",
    "\n",
    "        # doing this so that it is consistent with all other datasets\n",
    "        # to return a PIL Image\n",
    "#         print(img.shape)\n",
    "#         print(type(img))\n",
    "#         img = Image.fromarray(img)\n",
    "\n",
    "        if self.transform is not None:\n",
    "            img = self.transform(img)\n",
    "\n",
    "        return img, target"
   ]
  },
  {
   "cell_type": "code",
   "execution_count": 21,
   "id": "understood-reputation",
   "metadata": {},
   "outputs": [
    {
     "name": "stdout",
     "output_type": "stream",
     "text": [
      "Files already downloaded and verified\n"
     ]
    },
    {
     "name": "stderr",
     "output_type": "stream",
     "text": [
      "Creating Augmented Dataset: 100%|██████████| 50000/50000 [02:21<00:00, 352.12it/s]\n"
     ]
    }
   ],
   "source": [
    "from pycls.datasets.data import Data\n",
    "from pycls.config import cfg\n",
    "\n",
    "\n",
    "cfg.merge_from_file(cfg_path)\n",
    "data_obj = Data(cfg)\n",
    "data_obj.eval_mode = True\n",
    "train_data, train_size = data_obj.getDataset(save_dir=cfg.DATASET.ROOT_DIR, isTrain=True, isDownload=True)\n",
    "simclr_data = SimCLRAugmentedDataset(dataset_name, train_data)"
   ]
  },
  {
   "cell_type": "code",
   "execution_count": 22,
   "id": "dynamic-ferry",
   "metadata": {},
   "outputs": [
    {
     "data": {
      "text/plain": [
       "SimCLR Augmentated Dataset of CIFAR10\n",
       " Augmentations: GaussianBlur, ColorJitter, HorizontalFlip, GrayScale.\n",
       " Number of datapoints (5 x original dataset): 250000\n",
       " Normalization Values:\n",
       " Compose(\n",
       "    ToTensor()\n",
       "    Normalize(mean=[0.4914, 0.4822, 0.4465], std=[0.247, 0.2435, 0.2616])\n",
       ")"
      ]
     },
     "execution_count": 22,
     "metadata": {},
     "output_type": "execute_result"
    }
   ],
   "source": [
    "simclr_data"
   ]
  },
  {
   "cell_type": "markdown",
   "id": "narrow-trance",
   "metadata": {},
   "source": [
    "### DO NOT Change Batch Size"
   ]
  },
  {
   "cell_type": "code",
   "execution_count": 23,
   "id": "received-people",
   "metadata": {},
   "outputs": [],
   "source": [
    "trainSet = [i for i in range(len(simclr_data))]\n",
    "trainSet = np.array(trainSet, dtype=np.ndarray)\n",
    "train_dataloader = data_obj.getSequentialDataLoader(indexes=trainSet, batch_size=5, data=simclr_data)"
   ]
  },
  {
   "cell_type": "markdown",
   "id": "wicked-marketplace",
   "metadata": {},
   "source": [
    "### SimCLR Augmentations Examples"
   ]
  },
  {
   "cell_type": "code",
   "execution_count": 24,
   "id": "considered-carol",
   "metadata": {},
   "outputs": [],
   "source": [
    "import matplotlib.pyplot as plt\n",
    "\n",
    "def imshow(img):\n",
    "    img = img/2 + 0.5\n",
    "    npimg = img.numpy()\n",
    "    plt.imshow(np.transpose(npimg, (1,2,0)))\n",
    "    plt.show()\n",
    "    \n",
    "dataiter = iter(train_dataloader)"
   ]
  },
  {
   "cell_type": "code",
   "execution_count": 25,
   "id": "swedish-scope",
   "metadata": {},
   "outputs": [
    {
     "name": "stderr",
     "output_type": "stream",
     "text": [
      "Clipping input data to the valid range for imshow with RGB data ([0..1] for floats or [0..255] for integers).\n"
     ]
    },
    {
     "data": {
      "image/png": "[encoded data removed]",
      "text/plain": [
       "<Figure size 432x288 with 1 Axes>"
      ]
     },
     "metadata": {
      "needs_background": "light"
     },
     "output_type": "display_data"
    },
    {
     "name": "stdout",
     "output_type": "stream",
     "text": [
      "tensor([6, 6, 6, 6, 6])\n"
     ]
    }
   ],
   "source": [
    "images, labels = dataiter.next()\n",
    "\n",
    "imshow(torchvision.utils.make_grid(images))\n",
    "print(labels)"
   ]
  },
  {
   "cell_type": "markdown",
   "id": "electoral-installation",
   "metadata": {},
   "source": [
    "### Calculating SimCLRLoss between image and its augmented variants"
   ]
  },
  {
   "cell_type": "code",
   "execution_count": 26,
   "id": "instructional-afternoon",
   "metadata": {},
   "outputs": [
    {
     "name": "stderr",
     "output_type": "stream",
     "text": [
      "Calculating SimCLR Loss: 100%|██████████| 50000/50000 [13:02<00:00, 63.88it/s]\n"
     ]
    }
   ],
   "source": [
    "from losses.losses import SimCLRLoss\n",
    "\n",
    "image_losses = []\n",
    "for images, lbl in tqdm(train_dataloader, desc=\"Calculating SimCLR Loss: \"):\n",
    "    b, c, h, w = images.size()\n",
    "    criterion = SimCLRLoss(temperature=0.1)\n",
    "    all_losses = []\n",
    "    with torch.no_grad():\n",
    "        for idx in range(1, b):\n",
    "            input_ = torch.cat([images[0],images[idx]])\n",
    "            input_ = input_.view(-1, c, h, w) \n",
    "            input_ = input_.cuda(non_blocking=True)\n",
    "            output = model(input_).view(1, 2, -1)\n",
    "            loss = criterion(output)\n",
    "            all_losses.append(loss.item())\n",
    "        image_losses.append(np.mean(all_losses))"
   ]
  },
  {
   "cell_type": "code",
   "execution_count": 27,
   "id": "north-marketplace",
   "metadata": {},
   "outputs": [],
   "source": [
    "image_losses=np.array(image_losses)"
   ]
  },
  {
   "cell_type": "code",
   "execution_count": 30,
   "id": "still-apparel",
   "metadata": {},
   "outputs": [],
   "source": [
    "np.save(f'{output_folder}/{dataset_name}_SimCLR_losses.npy', image_losses)"
   ]
  }
 ],
 "metadata": {
  "kernelspec": {
   "display_name": "Python 3",
   "language": "python",
   "name": "python3"
  },
  "language_info": {
   "codemirror_mode": {
    "name": "ipython",
    "version": 3
   },
   "file_extension": ".py",
   "mimetype": "text/x-python",
   "name": "python",
   "nbconvert_exporter": "python",
   "pygments_lexer": "ipython3",
   "version": "3.8.5"
  }
 },
 "nbformat": 4,
 "nbformat_minor": 5
}

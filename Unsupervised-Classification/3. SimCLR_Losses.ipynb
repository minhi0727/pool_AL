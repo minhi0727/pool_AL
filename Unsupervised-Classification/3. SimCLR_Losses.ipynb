{
 "cells": [
  {
   "cell_type": "markdown",
   "id": "laughing-planner",
   "metadata": {},
   "source": [
    "### Set GPU"
   ]
  },
  {
   "cell_type": "code",
   "execution_count": 1,
   "id": "fossil-security",
   "metadata": {},
   "outputs": [],
   "source": [
    "import os\n",
    "os.environ['CUDA_VISIBLE_DEVICES'] = \"2\""
   ]
  },
  {
   "cell_type": "markdown",
   "id": "indonesian-estate",
   "metadata": {},
   "source": [
    "### Set Dataset Name"
   ]
  },
  {
   "cell_type": "code",
   "execution_count": 2,
   "id": "located-tractor",
   "metadata": {},
   "outputs": [],
   "source": [
    "# dataset_name = 'CIFAR10'\n",
    "# dataset_name = 'CIFAR100'\n",
    "# dataset_name = 'MNIST'\n",
    "# dataset_name = 'TINYIMAGENET'\n",
    "dataset_name = 'IMBALANCED_CIFAR10'"
   ]
  },
  {
   "cell_type": "markdown",
   "id": "israeli-request",
   "metadata": {},
   "source": [
    "### Run All"
   ]
  },
  {
   "cell_type": "code",
   "execution_count": 3,
   "id": "supreme-belly",
   "metadata": {},
   "outputs": [],
   "source": [
    "import numpy as np\n",
    "import torch\n",
    "from tqdm import tqdm\n",
    "\n",
    "from models.resnet_cifar import resnet18\n",
    "from utils.config import create_config\n",
    "from utils.common_config import get_model"
   ]
  },
  {
   "cell_type": "code",
   "execution_count": 4,
   "id": "official-documentation",
   "metadata": {},
   "outputs": [
    {
     "ename": "FileNotFoundError",
     "evalue": "[Errno 2] No such file or directory: '../results/imbalanced-cifar-10/pretext/model.pth.tar'",
     "output_type": "error",
     "traceback": [
      "\u001b[0;31m---------------------------------------------------------------------------\u001b[0m",
      "\u001b[0;31mFileNotFoundError\u001b[0m                         Traceback (most recent call last)",
      "Cell \u001b[0;32mIn[4], line 25\u001b[0m\n\u001b[1;32m     21\u001b[0m     cfg_path \u001b[38;5;241m=\u001b[39m \u001b[38;5;124m'\u001b[39m\u001b[38;5;124mconfigs/CIFAR10_RESNET18.yaml\u001b[39m\u001b[38;5;124m'\u001b[39m\n\u001b[1;32m     23\u001b[0m path_to_model \u001b[38;5;241m=\u001b[39m output_folder \u001b[38;5;241m+\u001b[39m \u001b[38;5;124m'\u001b[39m\u001b[38;5;124mpretext/model.pth.tar\u001b[39m\u001b[38;5;124m'\u001b[39m\n\u001b[0;32m---> 25\u001b[0m temp \u001b[38;5;241m=\u001b[39m \u001b[43mtorch\u001b[49m\u001b[38;5;241;43m.\u001b[39;49m\u001b[43mload\u001b[49m\u001b[43m(\u001b[49m\u001b[43mpath_to_model\u001b[49m\u001b[43m)\u001b[49m\n",
      "File \u001b[0;32m~/work/lib/python3.10/site-packages/torch/serialization.py:998\u001b[0m, in \u001b[0;36mload\u001b[0;34m(f, map_location, pickle_module, weights_only, mmap, **pickle_load_args)\u001b[0m\n\u001b[1;32m    995\u001b[0m \u001b[38;5;28;01mif\u001b[39;00m \u001b[38;5;124m'\u001b[39m\u001b[38;5;124mencoding\u001b[39m\u001b[38;5;124m'\u001b[39m \u001b[38;5;129;01mnot\u001b[39;00m \u001b[38;5;129;01min\u001b[39;00m pickle_load_args\u001b[38;5;241m.\u001b[39mkeys():\n\u001b[1;32m    996\u001b[0m     pickle_load_args[\u001b[38;5;124m'\u001b[39m\u001b[38;5;124mencoding\u001b[39m\u001b[38;5;124m'\u001b[39m] \u001b[38;5;241m=\u001b[39m \u001b[38;5;124m'\u001b[39m\u001b[38;5;124mutf-8\u001b[39m\u001b[38;5;124m'\u001b[39m\n\u001b[0;32m--> 998\u001b[0m \u001b[38;5;28;01mwith\u001b[39;00m \u001b[43m_open_file_like\u001b[49m\u001b[43m(\u001b[49m\u001b[43mf\u001b[49m\u001b[43m,\u001b[49m\u001b[43m \u001b[49m\u001b[38;5;124;43m'\u001b[39;49m\u001b[38;5;124;43mrb\u001b[39;49m\u001b[38;5;124;43m'\u001b[39;49m\u001b[43m)\u001b[49m \u001b[38;5;28;01mas\u001b[39;00m opened_file:\n\u001b[1;32m    999\u001b[0m     \u001b[38;5;28;01mif\u001b[39;00m _is_zipfile(opened_file):\n\u001b[1;32m   1000\u001b[0m         \u001b[38;5;66;03m# The zipfile reader is going to advance the current file position.\u001b[39;00m\n\u001b[1;32m   1001\u001b[0m         \u001b[38;5;66;03m# If we want to actually tail call to torch.jit.load, we need to\u001b[39;00m\n\u001b[1;32m   1002\u001b[0m         \u001b[38;5;66;03m# reset back to the original position.\u001b[39;00m\n\u001b[1;32m   1003\u001b[0m         orig_position \u001b[38;5;241m=\u001b[39m opened_file\u001b[38;5;241m.\u001b[39mtell()\n",
      "File \u001b[0;32m~/work/lib/python3.10/site-packages/torch/serialization.py:445\u001b[0m, in \u001b[0;36m_open_file_like\u001b[0;34m(name_or_buffer, mode)\u001b[0m\n\u001b[1;32m    443\u001b[0m \u001b[38;5;28;01mdef\u001b[39;00m \u001b[38;5;21m_open_file_like\u001b[39m(name_or_buffer, mode):\n\u001b[1;32m    444\u001b[0m     \u001b[38;5;28;01mif\u001b[39;00m _is_path(name_or_buffer):\n\u001b[0;32m--> 445\u001b[0m         \u001b[38;5;28;01mreturn\u001b[39;00m \u001b[43m_open_file\u001b[49m\u001b[43m(\u001b[49m\u001b[43mname_or_buffer\u001b[49m\u001b[43m,\u001b[49m\u001b[43m \u001b[49m\u001b[43mmode\u001b[49m\u001b[43m)\u001b[49m\n\u001b[1;32m    446\u001b[0m     \u001b[38;5;28;01melse\u001b[39;00m:\n\u001b[1;32m    447\u001b[0m         \u001b[38;5;28;01mif\u001b[39;00m \u001b[38;5;124m'\u001b[39m\u001b[38;5;124mw\u001b[39m\u001b[38;5;124m'\u001b[39m \u001b[38;5;129;01min\u001b[39;00m mode:\n",
      "File \u001b[0;32m~/work/lib/python3.10/site-packages/torch/serialization.py:426\u001b[0m, in \u001b[0;36m_open_file.__init__\u001b[0;34m(self, name, mode)\u001b[0m\n\u001b[1;32m    425\u001b[0m \u001b[38;5;28;01mdef\u001b[39;00m \u001b[38;5;21m__init__\u001b[39m(\u001b[38;5;28mself\u001b[39m, name, mode):\n\u001b[0;32m--> 426\u001b[0m     \u001b[38;5;28msuper\u001b[39m()\u001b[38;5;241m.\u001b[39m\u001b[38;5;21m__init__\u001b[39m(\u001b[38;5;28;43mopen\u001b[39;49m\u001b[43m(\u001b[49m\u001b[43mname\u001b[49m\u001b[43m,\u001b[49m\u001b[43m \u001b[49m\u001b[43mmode\u001b[49m\u001b[43m)\u001b[49m)\n",
      "\u001b[0;31mFileNotFoundError\u001b[0m: [Errno 2] No such file or directory: '../results/imbalanced-cifar-10/pretext/model.pth.tar'"
     ]
    }
   ],
   "source": [
    "output_folder = '../results/'\n",
    "if dataset_name == \"CIFAR10\":\n",
    "    output_folder += 'cifar-10/'\n",
    "    config_exp_path = './configs/pretext/simclr_cifar10.yml'\n",
    "    cfg_path = 'configs/CIFAR10_RESNET18.yaml'\n",
    "elif dataset_name == \"CIFAR100\":\n",
    "    output_folder += 'cifar-20/'\n",
    "    config_exp_path = './configs/pretext/simclr_cifar20.yml'\n",
    "    cfg_path = 'configs/CIFAR100_RESNET18.yaml'\n",
    "elif dataset_name == \"MNIST\":\n",
    "    output_folder += 'mnist/'\n",
    "    config_exp_path = './configs/pretext/simclr_mnist.yml'\n",
    "    cfg_path = 'configs/MNIST_RESNET18.yaml'\n",
    "elif dataset_name == \"TINYIMAGENET\":\n",
    "    output_folder += 'tinyimagenet/'\n",
    "    config_exp_path = './configs/pretext/simclr_tinyimagenet.yml'\n",
    "    cfg_path = 'configs/TINYIMAGENET_RESNET18.yaml'\n",
    "elif dataset_name == 'IMBALANCED_CIFAR10':\n",
    "    output_folder += 'imbalanced-cifar-10/'\n",
    "    config_exp_path = './configs/pretext/simclr_cifar10_im.yml'\n",
    "    cfg_path = 'configs/CIFAR10_RESNET18.yaml'\n",
    "    \n",
    "path_to_model = output_folder + 'pretext/model.pth.tar'\n",
    "\n",
    "temp = torch.load(path_to_model)"
   ]
  },
  {
   "cell_type": "code",
   "execution_count": null,
   "id": "exact-flush",
   "metadata": {},
   "outputs": [],
   "source": [
    "import argparse\n",
    "\n",
    "config_env_path = './configs/env.yml'\n",
    "p = create_config(config_env_path, config_exp_path)"
   ]
  },
  {
   "cell_type": "code",
   "execution_count": null,
   "id": "liable-dairy",
   "metadata": {},
   "outputs": [],
   "source": [
    "model = get_model(p)\n",
    "model.load_state_dict(temp)\n",
    "model.eval()\n",
    "model.cuda();"
   ]
  },
  {
   "cell_type": "markdown",
   "id": "julian-caribbean",
   "metadata": {},
   "source": [
    "### Creating a SimCLR Augmentation Dataset"
   ]
  },
  {
   "cell_type": "code",
   "execution_count": null,
   "id": "million-statement",
   "metadata": {},
   "outputs": [],
   "source": [
    "# Owner of this file: Thalles Silva\n",
    "# Source: https://github.com/sthalles/PyTorch-BYOL\n",
    "import torch\n",
    "from torchvision import transforms\n",
    "import torch.nn as nn\n",
    "import numpy as np\n",
    "\n",
    "\n",
    "class GaussianBlur(object):\n",
    "    \"\"\"Blurs a single image on CPU\"\"\"\n",
    "\n",
    "    def __init__(self, kernel_size):\n",
    "        radias = kernel_size // 2\n",
    "        kernel_size = radias * 2 + 1\n",
    "        self.blur_h = nn.Conv2d(3, 3, kernel_size=(kernel_size, 1),\n",
    "                                stride=1, padding=0, bias=False, groups=3)\n",
    "        self.blur_v = nn.Conv2d(3, 3, kernel_size=(1, kernel_size),\n",
    "                                stride=1, padding=0, bias=False, groups=3)\n",
    "        self.k = kernel_size\n",
    "        self.r = radias\n",
    "\n",
    "        self.blur = nn.Sequential(\n",
    "            nn.ReflectionPad2d(radias),\n",
    "            self.blur_h,\n",
    "            self.blur_v\n",
    "        )\n",
    "\n",
    "        self.pil_to_tensor = transforms.ToTensor()\n",
    "        self.tensor_to_pil = transforms.ToPILImage()\n",
    "\n",
    "    def __call__(self, img):\n",
    "        img = self.pil_to_tensor(img).unsqueeze(0)\n",
    "\n",
    "        sigma = np.random.uniform(0.1, 2.0)\n",
    "        x = np.arange(-self.r, self.r + 1)\n",
    "        x = np.exp(-np.power(x, 2) / (2 * sigma * sigma))\n",
    "        x = x / x.sum()\n",
    "        x = torch.from_numpy(x).view(1, -1).repeat(3, 1)\n",
    "\n",
    "        self.blur_h.weight.data.copy_(x.view(3, 1, self.k, 1))\n",
    "        self.blur_v.weight.data.copy_(x.view(3, 1, 1, self.k))\n",
    "\n",
    "        with torch.no_grad():\n",
    "            img = self.blur(img)\n",
    "            img = img.squeeze()\n",
    "\n",
    "        img = self.tensor_to_pil(img)\n",
    "\n",
    "        return img"
   ]
  },
  {
   "cell_type": "code",
   "execution_count": null,
   "id": "latter-intent",
   "metadata": {},
   "outputs": [],
   "source": [
    "def gaussian_blur(im, input_shape):\n",
    "    \"\"\"Applies GaussianBlur to input image.\"\"\"\n",
    "    blur = GaussianBlur(kernel_size=int(0.1 * input_shape))\n",
    "    if dataset_name == 'MNIST':\n",
    "        return Image.fromarray(np.uint8(im)).filter(ImageFilter.GaussianBlur(radius = 3)).convert(\"L\")\n",
    "    return Image.fromarray(np.uint8(blur(im))).convert(\"RGB\")\n",
    "\n",
    "\n",
    "def horizontal_flip(im):\n",
    "    \"\"\"Performs horizontal flip.\"\"\"\n",
    "    if dataset_name == 'MNIST':\n",
    "        return Image.fromarray(np.uint8(im)).transpose(PIL.Image.FLIP_LEFT_RIGHT).convert(\"L\")\n",
    "    return Image.fromarray(np.uint8(im[:, ::-1, :])).convert(\"RGB\")\n",
    "\n",
    "def color_jitter(im):\n",
    "    \"\"\"Performs Color Jitter based on SimCLR paper.\"\"\"\n",
    "    s=1\n",
    "    im = Image.fromarray(np.uint8(im)).convert(\"RGB\")\n",
    "    color_jitter = transforms.ColorJitter(0.8 * s, 0.8 * s, 0.8 * s, 0.2 * s)\n",
    "    out = Image.fromarray(np.uint8(color_jitter(im)))\n",
    "    if dataset_name == 'MNIST':\n",
    "        return out.convert(\"L\")\n",
    "    return out.convert(\"RGB\")\n",
    "\n",
    "def gray_scale(im):\n",
    "    \"\"\"Converts the input image into a grayscale image.\"\"\"\n",
    "    gray = transforms.RandomGrayscale(p=1)\n",
    "    im = Image.fromarray(np.uint8(im)).convert(\"RGB\")\n",
    "    if dataset_name == 'MNIST':\n",
    "        return im.convert(\"L\")\n",
    "    return im.convert(\"L\").convert(\"RGB\")"
   ]
  },
  {
   "cell_type": "code",
   "execution_count": null,
   "id": "orange-asbestos",
   "metadata": {},
   "outputs": [],
   "source": [
    "import torch\n",
    "import numpy as np\n",
    "from typing import Any, Tuple\n",
    "from PIL import Image, ImageFilter \n",
    "import PIL\n",
    "import torchvision\n",
    "\n",
    "\n",
    "class SimCLRAugmentedDataset(torch.utils.data.Dataset):\n",
    "    \"\"\"\n",
    "    Gives a dataset with all SimCLR Augmentations for each image. \n",
    "    \n",
    "    Args:\n",
    "        name (string): Name of the dataset. E.g., 'CIFAR10', 'TINYIMAGENET', etc.\n",
    "        dataset (Dataset, optional): PyTorch Dataset object. \n",
    "        \n",
    "    \"\"\"\n",
    "    def __init__(self, name, dataset):\n",
    "        super(SimCLRAugmentedDataset, self).__init__()\n",
    "        self.name = name\n",
    "        self.dataset = dataset\n",
    "        if self.name in ['CIFAR10', 'CIFAR100', 'MNIST', 'SVHN', 'IMBALANCED_CIFAR10', 'IMBALANCED_CIFAR100']:\n",
    "            self.old_samples = self.dataset.data\n",
    "            self.labels = []\n",
    "        else: # Tiny ImageNet\n",
    "            self.old_samples = [item[0] for item in self.dataset.samples]\n",
    "            self.old_samples = [np.asarray(Image.open(img).convert(\"L\")) for img in self.old_samples]\n",
    "        self.data, self.targets = self.create_augmentations()\n",
    "        self.transform = self.dataset.transform\n",
    "        \n",
    "    def create_augmentations(self):\n",
    "        imgs, labels = [], []\n",
    "        for idx in tqdm(range(len(self.old_samples)), desc=\"Creating Augmented Dataset\"):\n",
    "            img = self.old_samples[idx]\n",
    "            augmented_imgs = [\n",
    "                torchvision.transforms.ToPILImage()(img),\n",
    "                horizontal_flip(img),\n",
    "                gaussian_blur(img, img.shape[0]),\n",
    "                color_jitter(img),\n",
    "                gray_scale(img)\n",
    "            ]\n",
    "            augmented_labels = torch.LongTensor([self.dataset.targets[idx] for x in range(5)])\n",
    "            if self.name == 'MNIST':\n",
    "                imgs.extend(augmented_imgs[:-1])\n",
    "                labels.extend(augmented_labels[:-1])\n",
    "            else:\n",
    "                imgs.extend(augmented_imgs)\n",
    "                labels.extend(augmented_labels)\n",
    "        return imgs, labels\n",
    "    \n",
    "    def __len__(self):\n",
    "        return len(self.targets)\n",
    "    \n",
    "    def __repr__(self) -> str:\n",
    "        head = \"SimCLR Augmentated Dataset of \" + self.name \n",
    "        body = [\"Augmentations: GaussianBlur, ColorJitter, HorizontalFlip, GrayScale.\"]\n",
    "        body += [\"Number of datapoints (5 x original dataset): {}\".format(self.__len__())]\n",
    "        body += [\"Normalization Values:\"]\n",
    "        if self.transform is not None:\n",
    "            body += [repr(self.transform)]\n",
    "        lines = [head] + [\" \" + line for line in body]\n",
    "        return '\\n'.join(lines)\n",
    "    \n",
    "    def __getitem__(self, index: int) -> Tuple[Any, Any]:\n",
    "        \"\"\"\n",
    "        Args:\n",
    "            index (int): Index\n",
    "        Returns:\n",
    "            tuple: (image, target) where target is index of the target class.\n",
    "        \"\"\"\n",
    "        img, target = self.data[index], self.targets[index]\n",
    "\n",
    "        # doing this so that it is consistent with all other datasets\n",
    "        # to return a PIL Image\n",
    "#         print(img.shape)\n",
    "#         print(type(img))\n",
    "#         img = torchvision.transforms.ToPILImage()(img)\n",
    "\n",
    "        if self.transform is not None:\n",
    "            img = self.transform(img)\n",
    "\n",
    "        return img, target"
   ]
  },
  {
   "cell_type": "code",
   "execution_count": null,
   "id": "freelance-technology",
   "metadata": {},
   "outputs": [
    {
     "name": "stdout",
     "output_type": "stream",
     "text": [
      "Files already downloaded and verified\n"
     ]
    },
    {
     "name": "stderr",
     "output_type": "stream",
     "text": [
      "Creating Augmented Dataset:   0%|          | 29/13996 [00:00<00:49, 281.03it/s]"
     ]
    },
    {
     "name": "stdout",
     "output_type": "stream",
     "text": [
      "Train Mode: Contain 13996 images\n"
     ]
    },
    {
     "name": "stderr",
     "output_type": "stream",
     "text": [
      "Creating Augmented Dataset: 100%|██████████| 13996/13996 [00:36<00:00, 383.30it/s]\n"
     ]
    }
   ],
   "source": [
    "from pycls.datasets.data import Data\n",
    "from pycls.config import cfg\n",
    "\n",
    "\n",
    "cfg.merge_from_file(cfg_path)\n",
    "cfg.DATASET.NAME = dataset_name\n",
    "data_obj = Data(cfg)\n",
    "data_obj.eval_mode = True\n",
    "train_data, train_size = data_obj.getDataset(save_dir=f'../{cfg.DATASET.ROOT_DIR}', isTrain=True, isDownload=True)\n",
    "simclr_data = SimCLRAugmentedDataset(dataset_name, train_data)"
   ]
  },
  {
   "cell_type": "code",
   "execution_count": null,
   "id": "focal-dover",
   "metadata": {},
   "outputs": [
    {
     "data": {
      "text/plain": [
       "SimCLR Augmentated Dataset of IMBALANCED_CIFAR10\n",
       " Augmentations: GaussianBlur, ColorJitter, HorizontalFlip, GrayScale.\n",
       " Number of datapoints (5 x original dataset): 69980\n",
       " Normalization Values:\n",
       " Compose(\n",
       "    RandomCrop(size=(32, 32), padding=4)\n",
       "    ToTensor()\n",
       "    Normalize(mean=[0.4914, 0.4822, 0.4465], std=[0.247, 0.2435, 0.2616])\n",
       ")"
      ]
     },
     "execution_count": 17,
     "metadata": {},
     "output_type": "execute_result"
    }
   ],
   "source": [
    "simclr_data"
   ]
  },
  {
   "cell_type": "markdown",
   "id": "cloudy-growth",
   "metadata": {},
   "source": [
    "### DO NOT Change Batch Size"
   ]
  },
  {
   "cell_type": "code",
   "execution_count": null,
   "id": "absent-roots",
   "metadata": {},
   "outputs": [],
   "source": [
    "if dataset_name == 'MNIST':\n",
    "    batch_size = 4\n",
    "else:\n",
    "    batch_size = 5"
   ]
  },
  {
   "cell_type": "code",
   "execution_count": null,
   "id": "decimal-graphic",
   "metadata": {},
   "outputs": [],
   "source": [
    "trainSet = [i for i in range(len(simclr_data))]\n",
    "trainSet = np.array(trainSet, dtype=np.ndarray)\n",
    "train_dataloader = data_obj.getSequentialDataLoader(indexes=trainSet, batch_size=5, data=simclr_data)"
   ]
  },
  {
   "cell_type": "markdown",
   "id": "reasonable-warner",
   "metadata": {},
   "source": [
    "### SimCLR Augmentations Examples"
   ]
  },
  {
   "cell_type": "code",
   "execution_count": null,
   "id": "informal-supplier",
   "metadata": {},
   "outputs": [],
   "source": [
    "import matplotlib.pyplot as plt\n",
    "\n",
    "\n",
    "def imshow(img):\n",
    "    plt.figure(figsize=(10,3))\n",
    "    img = img/2 + 0.5\n",
    "    npimg = img.numpy()\n",
    "    plt.imshow(np.transpose(npimg, (1,2,0)))\n",
    "    plt.xticks([])\n",
    "    plt.yticks([])\n",
    "    plt.savefig('SimCLR_Loss_Example.png')\n",
    "    plt.show()\n",
    "    \n",
    "dataiter = iter(train_dataloader)"
   ]
  },
  {
   "cell_type": "code",
   "execution_count": null,
   "id": "quantitative-tracker",
   "metadata": {},
   "outputs": [
    {
     "name": "stderr",
     "output_type": "stream",
     "text": [
      "Clipping input data to the valid range for imshow with RGB data ([0..1] for floats or [0..255] for integers).\n"
     ]
    },
    {
     "data": {
      "image/png": "[encoded data removed]",
      "text/plain": [
       "<Figure size 720x216 with 1 Axes>"
      ]
     },
     "metadata": {},
     "output_type": "display_data"
    },
    {
     "name": "stdout",
     "output_type": "stream",
     "text": [
      "tensor([0, 0, 0, 0, 0])\n"
     ]
    }
   ],
   "source": [
    "images, labels = dataiter.next()\n",
    "\n",
    "imshow(torchvision.utils.make_grid(images))\n",
    "print(labels)"
   ]
  },
  {
   "cell_type": "markdown",
   "id": "polar-repair",
   "metadata": {},
   "source": [
    "### Calculating SimCLRLoss between image and its augmented variants"
   ]
  },
  {
   "cell_type": "code",
   "execution_count": null,
   "id": "established-fourth",
   "metadata": {},
   "outputs": [
    {
     "name": "stderr",
     "output_type": "stream",
     "text": [
      "Calculating SimCLR Loss: 100%|██████████| 13996/13996 [03:37<00:00, 64.44it/s]\n"
     ]
    }
   ],
   "source": [
    "from losses.losses import SimCLRLoss\n",
    "\n",
    "image_losses = []\n",
    "for images, lbl in tqdm(train_dataloader, desc=\"Calculating SimCLR Loss: \"):\n",
    "    b, c, h, w = images.size()\n",
    "    criterion = SimCLRLoss(temperature=0.1)\n",
    "    all_losses = []\n",
    "    with torch.no_grad():\n",
    "        for idx in range(1, b):\n",
    "            input_ = torch.cat([images[0],images[idx]])\n",
    "            input_ = input_.view(-1, c, h, w) \n",
    "            input_ = input_.cuda(non_blocking=True)\n",
    "            output = model(input_).view(1, 2, -1)\n",
    "            loss = criterion(output)\n",
    "            all_losses.append(loss.item())\n",
    "        image_losses.append(np.mean(all_losses))"
   ]
  },
  {
   "cell_type": "code",
   "execution_count": null,
   "id": "popular-talent",
   "metadata": {},
   "outputs": [],
   "source": [
    "image_losses=np.array(image_losses)"
   ]
  },
  {
   "cell_type": "code",
   "execution_count": null,
   "id": "hundred-opposition",
   "metadata": {},
   "outputs": [],
   "source": [
    "np.save(f'{output_folder}/{dataset_name}_SimCLR_losses.npy', image_losses)"
   ]
  }
 ],
 "metadata": {
  "kernelspec": {
   "display_name": "Python 3",
   "language": "python",
   "name": "python3"
  },
  "language_info": {
   "codemirror_mode": {
    "name": "ipython",
    "version": 3
   },
   "file_extension": ".py",
   "mimetype": "text/x-python",
   "name": "python",
   "nbconvert_exporter": "python",
   "pygments_lexer": "ipython3",
   "version": "3.10.12"
  }
 },
 "nbformat": 4,
 "nbformat_minor": 5
}

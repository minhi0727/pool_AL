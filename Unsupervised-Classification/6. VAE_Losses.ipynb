{
 "cells": [
  {
   "cell_type": "markdown",
   "id": "active-walter",
   "metadata": {},
   "source": [
    "### Set GPU"
   ]
  },
  {
   "cell_type": "code",
   "execution_count": 6,
   "id": "fatty-madison",
   "metadata": {},
   "outputs": [],
   "source": [
    "import os\n",
    "os.environ['CUDA_VISIBLE_DEVICES'] = \"3\""
   ]
  },
  {
   "cell_type": "code",
   "execution_count": 7,
   "id": "smoking-humanitarian",
   "metadata": {},
   "outputs": [],
   "source": [
    "dataset_name = 'CIFAR10'\n",
    "# dataset_name = 'CIFAR100'\n",
    "# dataset_name = 'MNIST'\n",
    "# dataset_name = 'TINYIMAGENET'\n",
    "# dataset_name = \"IMBALANCED_CIFAR10\""
   ]
  },
  {
   "cell_type": "code",
   "execution_count": 11,
   "id": "grateful-criterion",
   "metadata": {},
   "outputs": [],
   "source": [
    "import torch\n",
    "import numpy as np\n",
    "from tqdm import tqdm\n",
    "\n",
    "import glob\n",
    "\n",
    "import os\n",
    "import sys\n",
    "def add_path(path):\n",
    "    if path not in sys.path:\n",
    "        sys.path.insert(0, path)\n",
    "\n",
    "add_path(os.path.abspath('/home/chominhi/work/init-pools-dal-main'))\n",
    "from pycls.models.vae import VanillaVAE,VanillaVAE2\n",
    "from pycls.models.vae import loss_function as VAELoss"
   ]
  },
  {
   "cell_type": "code",
   "execution_count": 13,
   "id": "timely-operations",
   "metadata": {},
   "outputs": [],
   "source": [
    "model_folder = ''\n",
    "output_folder = ''\n",
    "if dataset_name == \"CIFAR10\":\n",
    "    output_folder += '/home/chominhi/work/init-pools-dal-main'  #수정함\n",
    "    model_folder += '/home/chominhi/work/init-pools-dal-main/output/CIFAR10/VAE/VAE_2/'\n",
    "    config_path = '/home/chominhi/work/init-pools-dal-main/configs/cifar10/ssl/VAE.yaml'\n",
    "elif dataset_name == \"CIFAR100\":\n",
    "    output_folder += '/results/cifar-100/'\n",
    "    model_folder += '/output/CIFAR100/VAE/VAE_1/'\n",
    "    config_path = '/configs/cifar100/ssl/VAE.yaml'\n",
    "elif dataset_name == \"MNIST\":\n",
    "    output_folder += '/results/mnist/'\n",
    "    model_folder += '/output/MNIST/VAE/VAE_1/'\n",
    "    config_path = '/configs/mnist/ssl/VAE.yaml'\n",
    "elif dataset_name == \"TINYIMAGENET\":\n",
    "    output_folder += '/results/tinyimagenet/'\n",
    "    model_folder += '/output/TINYIMAGENET/VAE/VAE_1/'\n",
    "    config_path = '/configs/tinyimagenet/ssl/VAE.yaml'\n",
    "if dataset_name == \"IMBALANCED_CIFAR10\":\n",
    "    output_folder += '/results/imbalanced-cifar-10/'\n",
    "    model_folder += '/output/IMBALANCED_CIFAR10/VAE/VAE_1/'\n",
    "    config_path = '/configs/cifar10/ssl/VAE_IM.yaml'"
   ]
  },
  {
   "cell_type": "code",
   "execution_count": 14,
   "id": "remarkable-mozambique",
   "metadata": {},
   "outputs": [
    {
     "ename": "IndexError",
     "evalue": "list index out of range",
     "output_type": "error",
     "traceback": [
      "\u001b[0;31m---------------------------------------------------------------------------\u001b[0m",
      "\u001b[0;31mIndexError\u001b[0m                                Traceback (most recent call last)",
      "Cell \u001b[0;32mIn[14], line 1\u001b[0m\n\u001b[0;32m----> 1\u001b[0m path_to_model \u001b[38;5;241m=\u001b[39m \u001b[43mglob\u001b[49m\u001b[38;5;241;43m.\u001b[39;49m\u001b[43mglob\u001b[49m\u001b[43m(\u001b[49m\u001b[43mmodel_folder\u001b[49m\u001b[38;5;241;43m+\u001b[39;49m\u001b[38;5;124;43m'\u001b[39;49m\u001b[38;5;124;43m*.pyth\u001b[39;49m\u001b[38;5;124;43m'\u001b[39;49m\u001b[43m)\u001b[49m\u001b[43m[\u001b[49m\u001b[38;5;241;43m0\u001b[39;49m\u001b[43m]\u001b[49m   \n\u001b[1;32m      3\u001b[0m temp \u001b[38;5;241m=\u001b[39m torch\u001b[38;5;241m.\u001b[39mload(path_to_model)\n",
      "\u001b[0;31mIndexError\u001b[0m: list index out of range"
     ]
    }
   ],
   "source": [
    "path_to_model = glob.glob(model_folder+'*.pyth')[0]   \n",
    "\n",
    "temp = torch.load(path_to_model)"
   ]
  },
  {
   "cell_type": "code",
   "execution_count": null,
   "id": "outdoor-outdoors",
   "metadata": {},
   "outputs": [],
   "source": [
    "model = VanillaVAE(in_channels=3, latent_dim=128)\n",
    "model.load_state_dict(temp['model_state'])\n",
    "model.eval()\n",
    "model.cuda();"
   ]
  },
  {
   "cell_type": "code",
   "execution_count": null,
   "id": "current-christianity",
   "metadata": {},
   "outputs": [
    {
     "data": {
      "text/plain": [
       "VanillaVAE(\n",
       "  (encoder): Sequential(\n",
       "    (0): Sequential(\n",
       "      (0): Conv2d(3, 32, kernel_size=(3, 3), stride=(2, 2), padding=(1, 1))\n",
       "      (1): BatchNorm2d(32, eps=1e-05, momentum=0.1, affine=True, track_running_stats=True)\n",
       "      (2): LeakyReLU(negative_slope=0.01)\n",
       "    )\n",
       "    (1): Sequential(\n",
       "      (0): Conv2d(32, 64, kernel_size=(3, 3), stride=(2, 2), padding=(1, 1))\n",
       "      (1): BatchNorm2d(64, eps=1e-05, momentum=0.1, affine=True, track_running_stats=True)\n",
       "      (2): LeakyReLU(negative_slope=0.01)\n",
       "    )\n",
       "    (2): Sequential(\n",
       "      (0): Conv2d(64, 128, kernel_size=(3, 3), stride=(2, 2), padding=(1, 1))\n",
       "      (1): BatchNorm2d(128, eps=1e-05, momentum=0.1, affine=True, track_running_stats=True)\n",
       "      (2): LeakyReLU(negative_slope=0.01)\n",
       "    )\n",
       "    (3): Sequential(\n",
       "      (0): Conv2d(128, 256, kernel_size=(3, 3), stride=(2, 2), padding=(1, 1))\n",
       "      (1): BatchNorm2d(256, eps=1e-05, momentum=0.1, affine=True, track_running_stats=True)\n",
       "      (2): LeakyReLU(negative_slope=0.01)\n",
       "    )\n",
       "  )\n",
       "  (fc_mu): Linear(in_features=1024, out_features=128, bias=True)\n",
       "  (fc_var): Linear(in_features=1024, out_features=128, bias=True)\n",
       "  (decoder_input): Linear(in_features=128, out_features=1024, bias=True)\n",
       "  (decoder): Sequential(\n",
       "    (0): Sequential(\n",
       "      (0): ConvTranspose2d(256, 128, kernel_size=(3, 3), stride=(2, 2), padding=(1, 1), output_padding=(1, 1))\n",
       "      (1): BatchNorm2d(128, eps=1e-05, momentum=0.1, affine=True, track_running_stats=True)\n",
       "      (2): LeakyReLU(negative_slope=0.01)\n",
       "    )\n",
       "    (1): Sequential(\n",
       "      (0): ConvTranspose2d(128, 64, kernel_size=(3, 3), stride=(2, 2), padding=(1, 1), output_padding=(1, 1))\n",
       "      (1): BatchNorm2d(64, eps=1e-05, momentum=0.1, affine=True, track_running_stats=True)\n",
       "      (2): LeakyReLU(negative_slope=0.01)\n",
       "    )\n",
       "    (2): Sequential(\n",
       "      (0): ConvTranspose2d(64, 32, kernel_size=(3, 3), stride=(2, 2), padding=(1, 1), output_padding=(1, 1))\n",
       "      (1): BatchNorm2d(32, eps=1e-05, momentum=0.1, affine=True, track_running_stats=True)\n",
       "      (2): LeakyReLU(negative_slope=0.01)\n",
       "    )\n",
       "  )\n",
       "  (final_layer): Sequential(\n",
       "    (0): ConvTranspose2d(32, 32, kernel_size=(3, 3), stride=(2, 2), padding=(1, 1), output_padding=(1, 1))\n",
       "    (1): BatchNorm2d(32, eps=1e-05, momentum=0.1, affine=True, track_running_stats=True)\n",
       "    (2): LeakyReLU(negative_slope=0.01)\n",
       "    (3): Conv2d(32, 3, kernel_size=(3, 3), stride=(1, 1), padding=(1, 1))\n",
       "    (4): Tanh()\n",
       "  )\n",
       ")"
      ]
     },
     "execution_count": 7,
     "metadata": {},
     "output_type": "execute_result"
    }
   ],
   "source": [
    "model"
   ]
  },
  {
   "cell_type": "code",
   "execution_count": null,
   "id": "protecting-sponsorship",
   "metadata": {},
   "outputs": [
    {
     "name": "stdout",
     "output_type": "stream",
     "text": [
      "Files already downloaded and verified\n"
     ]
    }
   ],
   "source": [
    "from pycls.datasets.data import Data\n",
    "from pycls.core.config import cfg\n",
    "\n",
    "\n",
    "cfg.merge_from_file(config_path)\n",
    "cfg.DATASET.NAME = dataset_name\n",
    "data_obj = Data(cfg)\n",
    "data_obj.eval_mode = True\n",
    "# train_data, train_size = data_obj.getDataset(save_dir=f'../data', isTrain=True, isDownload=True)\n",
    "train_data, train_size = data_obj.getDataset(save_dir=cfg.DATASET.ROOT_DIR, isTrain=True, isDownload=True)"
   ]
  },
  {
   "cell_type": "code",
   "execution_count": null,
   "id": "irish-center",
   "metadata": {},
   "outputs": [],
   "source": [
    "trainSet = [i for i in range(len(train_data))]\n",
    "trainSet = np.array(trainSet, dtype=np.ndarray)\n",
    "train_dataloader = data_obj.getSequentialDataLoader(indexes=trainSet, batch_size=5, data=train_data)"
   ]
  },
  {
   "cell_type": "code",
   "execution_count": null,
   "id": "rolled-freight",
   "metadata": {},
   "outputs": [
    {
     "name": "stderr",
     "output_type": "stream",
     "text": [
      "Calculating VAE Loss:   0%|          | 0/50000 [00:00<?, ?it/s]\n"
     ]
    }
   ],
   "source": [
    "image_losses = []\n",
    "for images, _ in tqdm(train_dataloader, desc=\"Calculating VAE Loss: \"):\n",
    "    criterion = VAELoss\n",
    "    with torch.no_grad():\n",
    "        images = images.cuda(non_blocking=True)\n",
    "        images_recon, inputs, mu, log_var = model(images)\n",
    "        loss, recons_loss, kld_loss = criterion(images_recon, images, mu, log_var, 128/len(train_data))\n",
    "        image_losses.append(loss.item())\n",
    "        break"
   ]
  },
  {
   "cell_type": "code",
   "execution_count": null,
   "id": "unique-quest",
   "metadata": {},
   "outputs": [],
   "source": [
    "image_losses = np.array(image_losses)"
   ]
  },
  {
   "cell_type": "code",
   "execution_count": null,
   "id": "joint-tongue",
   "metadata": {},
   "outputs": [
    {
     "ename": "NameError",
     "evalue": "name 'np' is not defined",
     "output_type": "error",
     "traceback": [
      "\u001b[0;31m---------------------------------------------------------------------------\u001b[0m",
      "\u001b[0;31mNameError\u001b[0m                                 Traceback (most recent call last)",
      "Cell \u001b[0;32mIn[2], line 1\u001b[0m\n\u001b[0;32m----> 1\u001b[0m \u001b[43mnp\u001b[49m\u001b[38;5;241m.\u001b[39msave(\u001b[38;5;124mf\u001b[39m\u001b[38;5;124m'\u001b[39m\u001b[38;5;132;01m{\u001b[39;00moutput_folder\u001b[38;5;132;01m}\u001b[39;00m\u001b[38;5;124m/\u001b[39m\u001b[38;5;132;01m{\u001b[39;00mdataset_name\u001b[38;5;132;01m}\u001b[39;00m\u001b[38;5;124m_VAE_losses.npy\u001b[39m\u001b[38;5;124m'\u001b[39m, image_losses)\n",
      "\u001b[0;31mNameError\u001b[0m: name 'np' is not defined"
     ]
    }
   ],
   "source": [
    "np.save(f'{output_folder}/{dataset_name}_VAE_losses.npy', image_losses)\n",
    "print('파일 만들어졌음')"
   ]
  },
  {
   "cell_type": "markdown",
   "id": "complete-patio",
   "metadata": {},
   "source": [
    "###  Visualizing VAE Reconstructions"
   ]
  },
  {
   "cell_type": "code",
   "execution_count": null,
   "id": "parental-moisture",
   "metadata": {},
   "outputs": [],
   "source": [
    "import matplotlib.pyplot as plt\n",
    "import torchvision\n",
    "\n",
    "def imshow(img):\n",
    "    plt.figure(figsize=(10,3))\n",
    "    img = img/2 + 0.5\n",
    "    npimg = img.numpy()\n",
    "    plt.imshow(np.transpose(npimg, (1,2,0)))\n",
    "    plt.xticks([])\n",
    "    plt.yticks([])\n",
    "#     plt.savefig('SimCLR_Loss_Example.png')\n",
    "    plt.show()"
   ]
  },
  {
   "cell_type": "code",
   "execution_count": null,
   "id": "universal-vacation",
   "metadata": {},
   "outputs": [
    {
     "name": "stderr",
     "output_type": "stream",
     "text": [
      "Clipping input data to the valid range for imshow with RGB data ([0..1] for floats or [0..255] for integers).\n"
     ]
    },
    {
     "data": {
      "image/png": "[encoded data removed]",
      "text/plain": [
       "<Figure size 720x216 with 1 Axes>"
      ]
     },
     "metadata": {},
     "output_type": "display_data"
    },
    {
     "data": {
      "image/png": "[encoded data removed]",
      "text/plain": [
       "<Figure size 720x216 with 1 Axes>"
      ]
     },
     "metadata": {},
     "output_type": "display_data"
    }
   ],
   "source": [
    "imshow(torchvision.utils.make_grid(images.cpu()))\n",
    "imshow(torchvision.utils.make_grid(images_recon.cpu()))"
   ]
  },
  {
   "cell_type": "code",
   "execution_count": null,
   "id": "entire-basics",
   "metadata": {},
   "outputs": [],
   "source": []
  }
 ],
 "metadata": {
  "kernelspec": {
   "display_name": "Python 3",
   "language": "python",
   "name": "python3"
  },
  "language_info": {
   "codemirror_mode": {
    "name": "ipython",
    "version": 3
   },
   "file_extension": ".py",
   "mimetype": "text/x-python",
   "name": "python",
   "nbconvert_exporter": "python",
   "pygments_lexer": "ipython3",
   "version": "3.10.12"
  }
 },
 "nbformat": 4,
 "nbformat_minor": 5
}

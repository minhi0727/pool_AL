{
 "cells": [
  {
   "cell_type": "markdown",
   "id": "stable-island",
   "metadata": {},
   "source": [
    "### Set GPU"
   ]
  },
  {
   "cell_type": "code",
   "execution_count": 1,
   "id": "cutting-subcommittee",
   "metadata": {},
   "outputs": [],
   "source": [
    "import os\n",
    "os.environ['CUDA_VISIBLE_DEVICES'] = \"2\""
   ]
  },
  {
   "cell_type": "markdown",
   "id": "australian-origin",
   "metadata": {},
   "source": [
    "### Set Dataset"
   ]
  },
  {
   "cell_type": "code",
   "execution_count": 2,
   "id": "limiting-qualification",
   "metadata": {},
   "outputs": [],
   "source": [
    "# dataset_name = 'CIFAR10'\n",
    "# dataset_name = 'CIFAR100'\n",
    "# dataset_name = 'MNIST'\n",
    "# dataset_name = 'TINYIMAGENET'\n",
    "dataset_name = 'IMBALANCED_CIFAR10'"
   ]
  },
  {
   "cell_type": "markdown",
   "id": "equipped-discount",
   "metadata": {},
   "source": [
    "### Num Classes"
   ]
  },
  {
   "cell_type": "code",
   "execution_count": 3,
   "id": "inside-health",
   "metadata": {},
   "outputs": [],
   "source": [
    "num_clusters = 10\n",
    "# num_clusters = 20\n",
    "# num_clusters = 200"
   ]
  },
  {
   "cell_type": "markdown",
   "id": "hundred-naples",
   "metadata": {},
   "source": [
    "### Run All "
   ]
  },
  {
   "cell_type": "code",
   "execution_count": 4,
   "id": "viral-watershed",
   "metadata": {},
   "outputs": [],
   "source": [
    "output_folder = '../results/'\n",
    "if dataset_name == \"CIFAR10\":\n",
    "    output_folder += 'cifar-10/'\n",
    "elif dataset_name == \"CIFAR100\":\n",
    "    output_folder += 'cifar-20/'\n",
    "elif dataset_name == \"MNIST\":\n",
    "    output_folder += 'mnist/'\n",
    "elif dataset_name == \"TINYIMAGENET\":\n",
    "    output_folder += 'tinyimagenet/'\n",
    "elif dataset_name == 'IMBALANCED_CIFAR10':\n",
    "    output_folder += 'imbalanced-cifar-10/'\n",
    "\n",
    "path_to_feat = f'{output_folder}/{dataset_name}_features128.npy'"
   ]
  },
  {
   "cell_type": "code",
   "execution_count": 7,
   "id": "outdoor-smile",
   "metadata": {},
   "outputs": [
    {
     "ename": "ModuleNotFoundError",
     "evalue": "No module named 'numba'",
     "output_type": "error",
     "traceback": [
      "\u001b[0;31m---------------------------------------------------------------------------\u001b[0m",
      "\u001b[0;31mModuleNotFoundError\u001b[0m                       Traceback (most recent call last)",
      "Cell \u001b[0;32mIn[7], line 15\u001b[0m\n\u001b[1;32m      9\u001b[0m         sys\u001b[38;5;241m.\u001b[39mpath\u001b[38;5;241m.\u001b[39minsert(\u001b[38;5;241m0\u001b[39m, path)\n\u001b[1;32m     11\u001b[0m add_path(os\u001b[38;5;241m.\u001b[39mpath\u001b[38;5;241m.\u001b[39mabspath(\u001b[38;5;124m'\u001b[39m\u001b[38;5;124m/home/chominhi/work/init-pools-dal-main\u001b[39m\u001b[38;5;124m'\u001b[39m))\n\u001b[0;32m---> 15\u001b[0m \u001b[38;5;28;01mfrom\u001b[39;00m \u001b[38;5;21;01mkmeans\u001b[39;00m\u001b[38;5;21;01m.\u001b[39;00m\u001b[38;5;21;01mkmeans_pytorch\u001b[39;00m \u001b[38;5;28;01mimport\u001b[39;00m kmeans\n",
      "File \u001b[0;32m~/work/init-pools-dal-main/Unsupervised-Classification/kmeans/kmeans_pytorch/__init__.py:7\u001b[0m\n\u001b[1;32m      4\u001b[0m \u001b[38;5;28;01mimport\u001b[39;00m \u001b[38;5;21;01mtorch\u001b[39;00m\n\u001b[1;32m      5\u001b[0m \u001b[38;5;28;01mfrom\u001b[39;00m \u001b[38;5;21;01mtqdm\u001b[39;00m \u001b[38;5;28;01mimport\u001b[39;00m tqdm\n\u001b[0;32m----> 7\u001b[0m \u001b[38;5;28;01mfrom\u001b[39;00m \u001b[38;5;21;01m.\u001b[39;00m\u001b[38;5;21;01msoft_dtw_cuda\u001b[39;00m \u001b[38;5;28;01mimport\u001b[39;00m SoftDTW\n\u001b[1;32m     10\u001b[0m \u001b[38;5;28;01mdef\u001b[39;00m \u001b[38;5;21minitialize\u001b[39m(X, num_clusters):\n\u001b[1;32m     11\u001b[0m \u001b[38;5;250m    \u001b[39m\u001b[38;5;124;03m\"\"\"\u001b[39;00m\n\u001b[1;32m     12\u001b[0m \u001b[38;5;124;03m    initialize cluster centers\u001b[39;00m\n\u001b[1;32m     13\u001b[0m \u001b[38;5;124;03m    :param X: (torch.tensor) matrix\u001b[39;00m\n\u001b[1;32m     14\u001b[0m \u001b[38;5;124;03m    :param num_clusters: (int) number of clusters\u001b[39;00m\n\u001b[1;32m     15\u001b[0m \u001b[38;5;124;03m    :return: (np.array) initial state\u001b[39;00m\n\u001b[1;32m     16\u001b[0m \u001b[38;5;124;03m    \"\"\"\u001b[39;00m\n",
      "File \u001b[0;32m~/work/init-pools-dal-main/Unsupervised-Classification/kmeans/kmeans_pytorch/soft_dtw_cuda.py:30\u001b[0m\n\u001b[1;32m     28\u001b[0m \u001b[38;5;28;01mimport\u001b[39;00m \u001b[38;5;21;01mtorch\u001b[39;00m\n\u001b[1;32m     29\u001b[0m \u001b[38;5;28;01mimport\u001b[39;00m \u001b[38;5;21;01mtorch\u001b[39;00m\u001b[38;5;21;01m.\u001b[39;00m\u001b[38;5;21;01mcuda\u001b[39;00m\n\u001b[0;32m---> 30\u001b[0m \u001b[38;5;28;01mfrom\u001b[39;00m \u001b[38;5;21;01mnumba\u001b[39;00m \u001b[38;5;28;01mimport\u001b[39;00m jit\n\u001b[1;32m     31\u001b[0m \u001b[38;5;28;01mfrom\u001b[39;00m \u001b[38;5;21;01mtorch\u001b[39;00m\u001b[38;5;21;01m.\u001b[39;00m\u001b[38;5;21;01mautograd\u001b[39;00m \u001b[38;5;28;01mimport\u001b[39;00m Function\n\u001b[1;32m     32\u001b[0m \u001b[38;5;28;01mfrom\u001b[39;00m \u001b[38;5;21;01mnumba\u001b[39;00m \u001b[38;5;28;01mimport\u001b[39;00m cuda\n",
      "\u001b[0;31mModuleNotFoundError\u001b[0m: No module named 'numba'"
     ]
    }
   ],
   "source": [
    "import torch\n",
    "import numpy as np\n",
    "import os\n",
    "import sys\n",
    "\n",
    "\n",
    "def add_path(path):\n",
    "    if path not in sys.path:\n",
    "        sys.path.insert(0, path)\n",
    "\n",
    "add_path(os.path.abspath('/home/chominhi/work/init-pools-dal-main/Unsupervised-Classification'))\n",
    "\n",
    "\n",
    "\n",
    "from kmeans.kmeans_pytorch import kmeans"
   ]
  },
  {
   "cell_type": "code",
   "execution_count": null,
   "id": "behavioral-astrology",
   "metadata": {},
   "outputs": [],
   "source": [
    "# data\n",
    "x = np.load(path_to_feat)\n",
    "x = torch.from_numpy(x)"
   ]
  },
  {
   "cell_type": "markdown",
   "id": "residential-album",
   "metadata": {},
   "source": [
    "## CPU (When memory isn't enough)"
   ]
  },
  {
   "cell_type": "code",
   "execution_count": null,
   "id": "genetic-flush",
   "metadata": {},
   "outputs": [],
   "source": [
    "# from sklearn.cluster import KMeans\n",
    "\n",
    "# kmeans = KMeans(n_clusters=num_clusters, random_state=0).fit(x)\n",
    "# cluster_ids_x = torch.tensor(kmeans.labels_)"
   ]
  },
  {
   "cell_type": "markdown",
   "id": "planned-boxing",
   "metadata": {},
   "source": [
    "## GPU"
   ]
  },
  {
   "cell_type": "code",
   "execution_count": null,
   "id": "norwegian-generic",
   "metadata": {},
   "outputs": [
    {
     "name": "stdout",
     "output_type": "stream",
     "text": [
      "running k-means on cuda:0..\n"
     ]
    },
    {
     "name": "stderr",
     "output_type": "stream",
     "text": [
      "[running kmeans]: 139it [00:00, 243.86it/s, center_shift=0.000067, iteration=140, tol=0.000100]"
     ]
    }
   ],
   "source": [
    "# kmeans\n",
    "cluster_ids_x, cluster_centers = kmeans(\n",
    "    X=x, num_clusters=num_clusters, distance='euclidean', device=torch.device('cuda:0'))"
   ]
  },
  {
   "cell_type": "code",
   "execution_count": null,
   "id": "clear-backing",
   "metadata": {},
   "outputs": [
    {
     "data": {
      "text/plain": [
       "torch.Size([13996])"
      ]
     },
     "execution_count": 12,
     "metadata": {},
     "output_type": "execute_result"
    }
   ],
   "source": [
    "cluster_ids_x.shape"
   ]
  },
  {
   "cell_type": "code",
   "execution_count": null,
   "id": "marine-armenia",
   "metadata": {},
   "outputs": [
    {
     "name": "stderr",
     "output_type": "stream",
     "text": [
      "[running kmeans]: 140it [00:19, 243.86it/s, center_shift=0.000067, iteration=140, tol=0.000100]"
     ]
    }
   ],
   "source": [
    "np.save(f'{output_folder}/{dataset_name}_kmeans_cluster_ids.npy', cluster_ids_x)"
   ]
  }
 ],
 "metadata": {
  "kernelspec": {
   "display_name": "Python 3",
   "language": "python",
   "name": "python3"
  },
  "language_info": {
   "codemirror_mode": {
    "name": "ipython",
    "version": 3
   },
   "file_extension": ".py",
   "mimetype": "text/x-python",
   "name": "python",
   "nbconvert_exporter": "python",
   "pygments_lexer": "ipython3",
   "version": "3.10.12"
  }
 },
 "nbformat": 4,
 "nbformat_minor": 5
}

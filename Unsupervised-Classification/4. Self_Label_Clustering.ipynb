{
 "cells": [
  {
   "cell_type": "markdown",
   "id": "civilian-azerbaijan",
   "metadata": {},
   "source": [
    "### Set GPU"
   ]
  },
  {
   "cell_type": "code",
   "execution_count": 1,
   "id": "civilian-writer",
   "metadata": {},
   "outputs": [],
   "source": [
    "import os\n",
    "os.environ['CUDA_VISIBLE_DEVICES'] = \"3\""
   ]
  },
  {
   "cell_type": "markdown",
   "id": "distinguished-calculation",
   "metadata": {},
   "source": [
    "## Set Dataset Name"
   ]
  },
  {
   "cell_type": "code",
   "execution_count": 2,
   "id": "cooked-romantic",
   "metadata": {},
   "outputs": [],
   "source": [
    "# dataset_name = 'CIFAR10'\n",
    "# dataset_name = 'CIFAR100'\n",
    "dataset_name = 'MNIST'\n",
    "# dataset_name = 'TINYIMAGENET'"
   ]
  },
  {
   "cell_type": "markdown",
   "id": "chief-central",
   "metadata": {},
   "source": [
    "### Run All Now"
   ]
  },
  {
   "cell_type": "code",
   "execution_count": 6,
   "id": "elder-madness",
   "metadata": {},
   "outputs": [
    {
     "ename": "ImportError",
     "evalue": "attempted relative import with no known parent package",
     "output_type": "error",
     "traceback": [
      "\u001b[0;31m---------------------------------------------------------------------------\u001b[0m",
      "\u001b[0;31mImportError\u001b[0m                               Traceback (most recent call last)",
      "Cell \u001b[0;32mIn[6], line 23\u001b[0m\n\u001b[1;32m     21\u001b[0m \u001b[38;5;28;01mfrom\u001b[39;00m \u001b[38;5;21;01mutils\u001b[39;00m\u001b[38;5;21;01m.\u001b[39;00m\u001b[38;5;21;01mconfig\u001b[39;00m \u001b[38;5;28;01mimport\u001b[39;00m create_config\n\u001b[1;32m     22\u001b[0m \u001b[38;5;28;01mfrom\u001b[39;00m \u001b[38;5;21;01mutils\u001b[39;00m\u001b[38;5;21;01m.\u001b[39;00m\u001b[38;5;21;01mcommon_config\u001b[39;00m \u001b[38;5;28;01mimport\u001b[39;00m get_model, get_train_dataset, get_val_transformations, get_train_dataloader\n\u001b[0;32m---> 23\u001b[0m \u001b[38;5;28;01mfrom\u001b[39;00m \u001b[38;5;21;01mutils\u001b[39;00m\u001b[38;5;21;01m.\u001b[39;00m\u001b[38;5;21;01mevaluate_utils\u001b[39;00m \u001b[38;5;28;01mimport\u001b[39;00m hungarian_evaluate2\n",
      "File \u001b[0;32m~/work/init-pools-dal-main/Unsupervised-Classification/utils/evaluate_utils.py:10\u001b[0m\n\u001b[1;32m      8\u001b[0m \u001b[38;5;28;01mfrom\u001b[39;00m \u001b[38;5;21;01mutils\u001b[39;00m\u001b[38;5;21;01m.\u001b[39;00m\u001b[38;5;21;01mcommon_config\u001b[39;00m \u001b[38;5;28;01mimport\u001b[39;00m get_feature_dimensions_backbone\n\u001b[1;32m      9\u001b[0m \u001b[38;5;28;01mfrom\u001b[39;00m \u001b[38;5;21;01mutils\u001b[39;00m\u001b[38;5;21;01m.\u001b[39;00m\u001b[38;5;21;01mutils\u001b[39;00m \u001b[38;5;28;01mimport\u001b[39;00m AverageMeter, confusion_matrix\n\u001b[0;32m---> 10\u001b[0m \u001b[38;5;28;01mfrom\u001b[39;00m \u001b[38;5;21;01mdata\u001b[39;00m\u001b[38;5;21;01m.\u001b[39;00m\u001b[38;5;21;01mcustom_dataset\u001b[39;00m \u001b[38;5;28;01mimport\u001b[39;00m NeighborsDataset\n\u001b[1;32m     11\u001b[0m \u001b[38;5;28;01mfrom\u001b[39;00m \u001b[38;5;21;01msklearn\u001b[39;00m \u001b[38;5;28;01mimport\u001b[39;00m metrics\n\u001b[1;32m     12\u001b[0m \u001b[38;5;28;01mfrom\u001b[39;00m \u001b[38;5;21;01mscipy\u001b[39;00m\u001b[38;5;21;01m.\u001b[39;00m\u001b[38;5;21;01moptimize\u001b[39;00m \u001b[38;5;28;01mimport\u001b[39;00m linear_sum_assignment\n",
      "File \u001b[0;32m~/work/init-pools-dal-main/Unsupervised-Classification/utils/data.py:14\u001b[0m\n\u001b[1;32m     11\u001b[0m \u001b[38;5;28;01mfrom\u001b[39;00m \u001b[38;5;21;01mtorchvision\u001b[39;00m \u001b[38;5;28;01mimport\u001b[39;00m transforms, datasets\n\u001b[1;32m     12\u001b[0m \u001b[38;5;28;01mfrom\u001b[39;00m \u001b[38;5;21;01mtorch\u001b[39;00m\u001b[38;5;21;01m.\u001b[39;00m\u001b[38;5;21;01mutils\u001b[39;00m\u001b[38;5;21;01m.\u001b[39;00m\u001b[38;5;21;01mdata\u001b[39;00m\u001b[38;5;21;01m.\u001b[39;00m\u001b[38;5;21;01msampler\u001b[39;00m \u001b[38;5;28;01mimport\u001b[39;00m SubsetRandomSampler\n\u001b[0;32m---> 14\u001b[0m \u001b[38;5;28;01mfrom\u001b[39;00m \u001b[38;5;21;01m.\u001b[39;00m\u001b[38;5;21;01mrandaugment\u001b[39;00m \u001b[38;5;28;01mimport\u001b[39;00m RandAugmentPolicy\n\u001b[1;32m     15\u001b[0m \u001b[38;5;28;01mfrom\u001b[39;00m \u001b[38;5;21;01m.\u001b[39;00m\u001b[38;5;21;01msimclr_augment\u001b[39;00m \u001b[38;5;28;01mimport\u001b[39;00m get_simclr_ops\n\u001b[1;32m     16\u001b[0m \u001b[38;5;28;01mfrom\u001b[39;00m \u001b[38;5;21;01m.\u001b[39;00m\u001b[38;5;21;01mutils\u001b[39;00m \u001b[38;5;28;01mimport\u001b[39;00m helpers\n",
      "\u001b[0;31mImportError\u001b[0m: attempted relative import with no known parent package"
     ]
    }
   ],
   "source": [
    "# from models.resnet_stl import resnet18\n",
    "import torch\n",
    "import numpy as np\n",
    "from tqdm import tqdm\n",
    "\n",
    "import sys\n",
    "import os\n",
    "\n",
    "def add_path(path):\n",
    "    if path not in sys.path:\n",
    "        sys.path.insert(0, path)\n",
    "\n",
    "add_path(os.path.abspath('/home/chominhi/work/init-pools-dal-main/Unsupervised-Classification'))\n",
    "\n",
    "\n",
    "\n",
    "from models.resnet_cifar import resnet18\n",
    "from utils.memory import MemoryBank\n",
    "from utils.train_utils import simclr_train\n",
    "from utils.utils import fill_memory_bank\n",
    "from utils.config import create_config\n",
    "from utils.common_config import get_model, get_train_dataset, get_val_transformations, get_train_dataloader\n",
    "from utils.evaluate_utils import hungarian_evaluate2"
   ]
  },
  {
   "cell_type": "code",
   "execution_count": 4,
   "id": "aquatic-pension",
   "metadata": {},
   "outputs": [
    {
     "ename": "FileNotFoundError",
     "evalue": "[Errno 2] No such file or directory: '../results/mnist/selflabel/model.pth.tar'",
     "output_type": "error",
     "traceback": [
      "\u001b[0;31m---------------------------------------------------------------------------\u001b[0m",
      "\u001b[0;31mFileNotFoundError\u001b[0m                         Traceback (most recent call last)",
      "Cell \u001b[0;32mIn[4], line 21\u001b[0m\n\u001b[1;32m     17\u001b[0m     cfg_path \u001b[38;5;241m=\u001b[39m \u001b[38;5;124m'\u001b[39m\u001b[38;5;124mconfigs/TINYIMAGENET_RESNET18.yaml\u001b[39m\u001b[38;5;124m'\u001b[39m\n\u001b[1;32m     19\u001b[0m path_to_model \u001b[38;5;241m=\u001b[39m output_folder \u001b[38;5;241m+\u001b[39m \u001b[38;5;124m'\u001b[39m\u001b[38;5;124mselflabel/model.pth.tar\u001b[39m\u001b[38;5;124m'\u001b[39m\n\u001b[0;32m---> 21\u001b[0m temp \u001b[38;5;241m=\u001b[39m \u001b[43mtorch\u001b[49m\u001b[38;5;241;43m.\u001b[39;49m\u001b[43mload\u001b[49m\u001b[43m(\u001b[49m\u001b[43mpath_to_model\u001b[49m\u001b[43m)\u001b[49m\n",
      "File \u001b[0;32m~/work/lib/python3.10/site-packages/torch/serialization.py:998\u001b[0m, in \u001b[0;36mload\u001b[0;34m(f, map_location, pickle_module, weights_only, mmap, **pickle_load_args)\u001b[0m\n\u001b[1;32m    995\u001b[0m \u001b[38;5;28;01mif\u001b[39;00m \u001b[38;5;124m'\u001b[39m\u001b[38;5;124mencoding\u001b[39m\u001b[38;5;124m'\u001b[39m \u001b[38;5;129;01mnot\u001b[39;00m \u001b[38;5;129;01min\u001b[39;00m pickle_load_args\u001b[38;5;241m.\u001b[39mkeys():\n\u001b[1;32m    996\u001b[0m     pickle_load_args[\u001b[38;5;124m'\u001b[39m\u001b[38;5;124mencoding\u001b[39m\u001b[38;5;124m'\u001b[39m] \u001b[38;5;241m=\u001b[39m \u001b[38;5;124m'\u001b[39m\u001b[38;5;124mutf-8\u001b[39m\u001b[38;5;124m'\u001b[39m\n\u001b[0;32m--> 998\u001b[0m \u001b[38;5;28;01mwith\u001b[39;00m \u001b[43m_open_file_like\u001b[49m\u001b[43m(\u001b[49m\u001b[43mf\u001b[49m\u001b[43m,\u001b[49m\u001b[43m \u001b[49m\u001b[38;5;124;43m'\u001b[39;49m\u001b[38;5;124;43mrb\u001b[39;49m\u001b[38;5;124;43m'\u001b[39;49m\u001b[43m)\u001b[49m \u001b[38;5;28;01mas\u001b[39;00m opened_file:\n\u001b[1;32m    999\u001b[0m     \u001b[38;5;28;01mif\u001b[39;00m _is_zipfile(opened_file):\n\u001b[1;32m   1000\u001b[0m         \u001b[38;5;66;03m# The zipfile reader is going to advance the current file position.\u001b[39;00m\n\u001b[1;32m   1001\u001b[0m         \u001b[38;5;66;03m# If we want to actually tail call to torch.jit.load, we need to\u001b[39;00m\n\u001b[1;32m   1002\u001b[0m         \u001b[38;5;66;03m# reset back to the original position.\u001b[39;00m\n\u001b[1;32m   1003\u001b[0m         orig_position \u001b[38;5;241m=\u001b[39m opened_file\u001b[38;5;241m.\u001b[39mtell()\n",
      "File \u001b[0;32m~/work/lib/python3.10/site-packages/torch/serialization.py:445\u001b[0m, in \u001b[0;36m_open_file_like\u001b[0;34m(name_or_buffer, mode)\u001b[0m\n\u001b[1;32m    443\u001b[0m \u001b[38;5;28;01mdef\u001b[39;00m \u001b[38;5;21m_open_file_like\u001b[39m(name_or_buffer, mode):\n\u001b[1;32m    444\u001b[0m     \u001b[38;5;28;01mif\u001b[39;00m _is_path(name_or_buffer):\n\u001b[0;32m--> 445\u001b[0m         \u001b[38;5;28;01mreturn\u001b[39;00m \u001b[43m_open_file\u001b[49m\u001b[43m(\u001b[49m\u001b[43mname_or_buffer\u001b[49m\u001b[43m,\u001b[49m\u001b[43m \u001b[49m\u001b[43mmode\u001b[49m\u001b[43m)\u001b[49m\n\u001b[1;32m    446\u001b[0m     \u001b[38;5;28;01melse\u001b[39;00m:\n\u001b[1;32m    447\u001b[0m         \u001b[38;5;28;01mif\u001b[39;00m \u001b[38;5;124m'\u001b[39m\u001b[38;5;124mw\u001b[39m\u001b[38;5;124m'\u001b[39m \u001b[38;5;129;01min\u001b[39;00m mode:\n",
      "File \u001b[0;32m~/work/lib/python3.10/site-packages/torch/serialization.py:426\u001b[0m, in \u001b[0;36m_open_file.__init__\u001b[0;34m(self, name, mode)\u001b[0m\n\u001b[1;32m    425\u001b[0m \u001b[38;5;28;01mdef\u001b[39;00m \u001b[38;5;21m__init__\u001b[39m(\u001b[38;5;28mself\u001b[39m, name, mode):\n\u001b[0;32m--> 426\u001b[0m     \u001b[38;5;28msuper\u001b[39m()\u001b[38;5;241m.\u001b[39m\u001b[38;5;21m__init__\u001b[39m(\u001b[38;5;28;43mopen\u001b[39;49m\u001b[43m(\u001b[49m\u001b[43mname\u001b[49m\u001b[43m,\u001b[49m\u001b[43m \u001b[49m\u001b[43mmode\u001b[49m\u001b[43m)\u001b[49m)\n",
      "\u001b[0;31mFileNotFoundError\u001b[0m: [Errno 2] No such file or directory: '../results/mnist/selflabel/model.pth.tar'"
     ]
    }
   ],
   "source": [
    "output_folder = '../results/'\n",
    "if dataset_name == \"CIFAR10\":\n",
    "    output_folder += 'cifar-10/'\n",
    "    config_exp_path = './configs/selflabel/selflabel_cifar10.yml'\n",
    "    cfg_path = 'configs/CIFAR10_RESNET18.yaml'\n",
    "elif dataset_name == \"CIFAR100\":\n",
    "    output_folder += 'cifar-20/'\n",
    "    config_exp_path = './configs/selflabel/selflabel_cifar20.yml'\n",
    "    cfg_path = 'configs/CIFAR100_RESNET18.yaml'\n",
    "elif dataset_name == \"MNIST\":\n",
    "    output_folder += 'mnist/'\n",
    "    config_exp_path = './configs/selflabel/selflabel_mnist.yml'\n",
    "    cfg_path = 'configs/MNIST_RESNET18.yaml'\n",
    "elif dataset_name == \"TINYIMAGENET\":\n",
    "    output_folder += 'tinyimagenet/'\n",
    "    config_exp_path = './configs/selflabel/selflabel_tinyimagenet.yml'\n",
    "    cfg_path = 'configs/TINYIMAGENET_RESNET18.yaml'\n",
    "    \n",
    "path_to_model = output_folder + 'selflabel/model.pth.tar'\n",
    "\n",
    "temp = torch.load(path_to_model)"
   ]
  },
  {
   "cell_type": "code",
   "execution_count": null,
   "id": "continental-burning",
   "metadata": {},
   "outputs": [],
   "source": [
    "import argparse\n",
    "\n",
    "config_env_path = './configs/env.yml'\n",
    "p = create_config(config_env_path, config_exp_path)"
   ]
  },
  {
   "cell_type": "code",
   "execution_count": null,
   "id": "competent-invasion",
   "metadata": {},
   "outputs": [],
   "source": [
    "model = get_model(p)\n",
    "model.load_state_dict(temp)\n",
    "model.eval()\n",
    "model.cuda();"
   ]
  },
  {
   "cell_type": "markdown",
   "id": "outer-crime",
   "metadata": {},
   "source": [
    "train_data = get_train_dataset(p, get_val_transformations(p),\n",
    "                                        split='train', to_augmented_dataset=False) \n",
    "train_dataloader = get_train_dataloader(p, train_data)"
   ]
  },
  {
   "cell_type": "markdown",
   "id": "administrative-projector",
   "metadata": {},
   "source": [
    "### Change batch size if you run into out of memory error "
   ]
  },
  {
   "cell_type": "code",
   "execution_count": null,
   "id": "educated-spread",
   "metadata": {},
   "outputs": [
    {
     "name": "stdout",
     "output_type": "stream",
     "text": [
      "Preprocess Operations Selected ==>  [RandomResizedCrop(size=(32, 32), scale=(0.08, 1.0), ratio=(0.75, 1.3333), interpolation=PIL.Image.BILINEAR), ToTensor(), Normalize(mean=[0.1307], std=[0.3081])]\n"
     ]
    }
   ],
   "source": [
    "from pycls.datasets.data import Data\n",
    "from pycls.config import cfg\n",
    "cfg.merge_from_file(cfg_path)\n",
    "cfg.DATASET.NAME = dataset_name\n",
    "data_obj = Data(cfg)\n",
    "\n",
    "train_data, train_size = data_obj.getDataset(save_dir='../data', isTrain=True, isDownload=True)\n",
    "trainSet = [i for i in range(train_size)]\n",
    "trainSet = np.array(trainSet, dtype=np.ndarray)\n",
    "train_dataloader = data_obj.getSequentialDataLoader(indexes=trainSet, batch_size=256, data=train_data)\n",
    "\n",
    "test_data, test_size = data_obj.getDataset(save_dir='../data', isTrain=False, isDownload=True)\n",
    "test_dataloader = data_obj.getTestLoader(data=test_data, test_batch_size=cfg.TRAIN.BATCH_SIZE, seed_id=cfg.RNG_SEED)"
   ]
  },
  {
   "cell_type": "code",
   "execution_count": null,
   "id": "interior-reservoir",
   "metadata": {},
   "outputs": [],
   "source": [
    "import torch.nn.functional as F\n",
    "\n",
    "@torch.no_grad()\n",
    "def get_predictions(p, dataloader, model, return_features=False):\n",
    "    # Make predictions on a dataset with neighbors\n",
    "    model.eval()\n",
    "    predictions = [[] for _ in range(p['num_heads'])]\n",
    "    probs = [[] for _ in range(p['num_heads'])]\n",
    "    targets = []\n",
    "    if return_features:\n",
    "        ft_dim = get_feature_dimensions_backbone(p)\n",
    "        features = torch.zeros((len(dataloader.sampler), ft_dim)).cuda()\n",
    "    \n",
    "    key_ = 'image'\n",
    "\n",
    "    ptr = 0\n",
    "    for row in tqdm(dataloader, desc=\"Extracting Self Label Predictions\"):\n",
    "#         images = row['image']\n",
    "#         lbl = row['target']\n",
    "        images, lbl = row\n",
    "        images = images.cuda()\n",
    "        output = model(images, forward_pass='default')\n",
    "        for i, output_i in enumerate(output):\n",
    "            predictions[i].append(torch.argmax(output_i, dim=1))\n",
    "        targets.append(lbl)\n",
    "\n",
    "    predictions = [torch.cat(pred_, dim=0) for pred_ in predictions]\n",
    "    targets = torch.cat(targets, dim=0)\n",
    "\n",
    "    out = [{'predictions': pred_, 'targets': targets} for pred_, prob_ in zip(predictions, probs)]\n",
    "\n",
    "    if return_features:\n",
    "        return out, features.cpu()\n",
    "    else:\n",
    "        return out"
   ]
  },
  {
   "cell_type": "code",
   "execution_count": null,
   "id": "upset-trading",
   "metadata": {},
   "outputs": [],
   "source": [
    "# from utils.evaluate_utils import get_predictions"
   ]
  },
  {
   "cell_type": "code",
   "execution_count": null,
   "id": "operational-delay",
   "metadata": {},
   "outputs": [
    {
     "name": "stderr",
     "output_type": "stream",
     "text": [
      "Extracting Self Label Predictions: 100%|██████████| 235/235 [00:19<00:00, 12.31it/s]\n"
     ]
    }
   ],
   "source": [
    "predictions = get_predictions(p, train_dataloader, model)"
   ]
  },
  {
   "cell_type": "markdown",
   "id": "outer-intro",
   "metadata": {},
   "source": [
    "#### Note: Stats are irrelevant for CIFAR100"
   ]
  },
  {
   "cell_type": "code",
   "execution_count": null,
   "id": "cooperative-privilege",
   "metadata": {},
   "outputs": [],
   "source": [
    "clustering_stats = hungarian_evaluate2(0, predictions, \n",
    "                                class_names=train_data.classes,\n",
    "                                compute_confusion_matrix=False,\n",
    "                                confusion_matrix_file=os.path.join('confusion_matrix.png'))"
   ]
  },
  {
   "cell_type": "code",
   "execution_count": null,
   "id": "rural-prescription",
   "metadata": {},
   "outputs": [
    {
     "data": {
      "text/plain": [
       "{'ACC': 0.5389666666666667,\n",
       " 'ARI': 0.4456088112671098,\n",
       " 'NMI': 0.5757462882079892,\n",
       " 'hungarian_match': [(0, 5),\n",
       "  (1, 0),\n",
       "  (2, 2),\n",
       "  (3, 3),\n",
       "  (4, 6),\n",
       "  (5, 8),\n",
       "  (6, 1),\n",
       "  (7, 4),\n",
       "  (8, 7),\n",
       "  (9, 9)]}"
      ]
     },
     "execution_count": 18,
     "metadata": {},
     "output_type": "execute_result"
    }
   ],
   "source": [
    "clustering_stats"
   ]
  },
  {
   "cell_type": "code",
   "execution_count": null,
   "id": "solid-farming",
   "metadata": {},
   "outputs": [
    {
     "data": {
      "text/plain": [
       "tensor([6, 1, 7,  ..., 6, 4, 5])"
      ]
     },
     "execution_count": 19,
     "metadata": {},
     "output_type": "execute_result"
    }
   ],
   "source": [
    "predictions[0]['predictions'].cpu()"
   ]
  },
  {
   "cell_type": "code",
   "execution_count": null,
   "id": "modified-panama",
   "metadata": {},
   "outputs": [],
   "source": [
    "np.save(f'{output_folder}/{dataset_name}_selflabel_cluster_ids.npy', predictions[0]['predictions'].cpu())"
   ]
  }
 ],
 "metadata": {
  "kernelspec": {
   "display_name": "Python 3",
   "language": "python",
   "name": "python3"
  },
  "language_info": {
   "codemirror_mode": {
    "name": "ipython",
    "version": 3
   },
   "file_extension": ".py",
   "mimetype": "text/x-python",
   "name": "python",
   "nbconvert_exporter": "python",
   "pygments_lexer": "ipython3",
   "version": "3.10.12"
  }
 },
 "nbformat": 4,
 "nbformat_minor": 5
}

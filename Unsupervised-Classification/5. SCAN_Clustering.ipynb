{
 "cells": [
  {
   "cell_type": "markdown",
   "id": "hollywood-sunday",
   "metadata": {},
   "source": [
    "### Set GPU"
   ]
  },
  {
   "cell_type": "code",
   "execution_count": 1,
   "id": "needed-aurora",
   "metadata": {},
   "outputs": [],
   "source": [
    "import os\n",
    "os.environ['CUDA_VISIBLE_DEVICES'] = \"3\""
   ]
  },
  {
   "cell_type": "markdown",
   "id": "organic-camera",
   "metadata": {},
   "source": [
    "## Set Dataset Name"
   ]
  },
  {
   "cell_type": "code",
   "execution_count": 2,
   "id": "fourth-compression",
   "metadata": {},
   "outputs": [],
   "source": [
    "# dataset_name = 'CIFAR10'\n",
    "# dataset_name = 'CIFAR100'\n",
    "# dataset_name = 'MNIST'\n",
    "# dataset_name = 'TINYIMAGENET'\n",
    "dataset_name = 'IMBALANCED_CIFAR10'"
   ]
  },
  {
   "cell_type": "markdown",
   "id": "genetic-falls",
   "metadata": {},
   "source": [
    "### Run All Now"
   ]
  },
  {
   "cell_type": "code",
   "execution_count": 3,
   "id": "governing-testimony",
   "metadata": {},
   "outputs": [],
   "source": [
    "# from models.resnet_stl import resnet18\n",
    "import torch\n",
    "import numpy as np\n",
    "from tqdm import tqdm\n",
    "\n",
    "from models.resnet_cifar import resnet18\n",
    "from utils.memory import MemoryBank\n",
    "from utils.train_utils import simclr_train\n",
    "from utils.utils import fill_memory_bank\n",
    "from utils.config import create_config\n",
    "from utils.common_config import get_model, get_train_dataset, get_val_transformations, get_train_dataloader\n",
    "from utils.evaluate_utils import hungarian_evaluate2, scan_evaluate"
   ]
  },
  {
   "cell_type": "code",
   "execution_count": 4,
   "id": "environmental-trade",
   "metadata": {},
   "outputs": [],
   "source": [
    "output_folder = '../results/'\n",
    "if dataset_name == \"CIFAR10\":\n",
    "    output_folder += 'cifar-10/'\n",
    "    config_exp_path = './configs/scan/scan_cifar10.yml'\n",
    "    cfg_path = 'configs/CIFAR10_RESNET18.yaml'\n",
    "elif dataset_name == \"CIFAR100\":\n",
    "    output_folder += 'cifar-20/'\n",
    "    config_exp_path = './configs/scan/scan_cifar20.yml'\n",
    "    cfg_path = 'configs/CIFAR100_RESNET18.yaml'\n",
    "elif dataset_name == \"MNIST\":\n",
    "    output_folder += 'mnist/'\n",
    "    config_exp_path = './configs/scan/scan_mnist.yml'\n",
    "    cfg_path = 'configs/MNIST_RESNET18.yaml'\n",
    "elif dataset_name == \"TINYIMAGENET\":\n",
    "    output_folder += 'tinyimagenet/'\n",
    "    config_exp_path = './configs/scan/scan_tinyimagenet.yml'\n",
    "    cfg_path = 'configs/TINYIMAGENET_RESNET18.yaml'\n",
    "elif dataset_name == 'IMBALANCED_CIFAR10':\n",
    "    output_folder += 'imbalanced-cifar-10/'\n",
    "    config_exp_path = './configs/scan/scan_cifar10_im.yml'\n",
    "    cfg_path = 'configs/CIFAR10_RESNET18.yaml'\n",
    "    \n",
    "path_to_model = output_folder + 'scan/model.pth.tar'\n",
    "\n",
    "temp = torch.load(path_to_model)"
   ]
  },
  {
   "cell_type": "code",
   "execution_count": 5,
   "id": "cordless-norfolk",
   "metadata": {},
   "outputs": [],
   "source": [
    "import argparse\n",
    "\n",
    "config_env_path = './configs/env.yml'\n",
    "p = create_config(config_env_path, config_exp_path)"
   ]
  },
  {
   "cell_type": "code",
   "execution_count": 6,
   "id": "faced-montgomery",
   "metadata": {},
   "outputs": [],
   "source": [
    "model = get_model(p)\n",
    "model.load_state_dict(temp['model'])\n",
    "model.eval()\n",
    "model.cuda();"
   ]
  },
  {
   "cell_type": "markdown",
   "id": "christian-iraqi",
   "metadata": {},
   "source": [
    "train_data = get_train_dataset(p, get_val_transformations(p),\n",
    "                                        split='train', to_augmented_dataset=False) \n",
    "train_dataloader = get_train_dataloader(p, train_data)"
   ]
  },
  {
   "cell_type": "markdown",
   "id": "prescription-turkey",
   "metadata": {},
   "source": [
    "### Change batch size if you run into out of memory error "
   ]
  },
  {
   "cell_type": "code",
   "execution_count": 7,
   "id": "photographic-briefs",
   "metadata": {},
   "outputs": [
    {
     "name": "stdout",
     "output_type": "stream",
     "text": [
      "Preprocess Operations Selected ==>  [RandomCrop(size=(32, 32), padding=4), ToTensor(), Normalize(mean=[0.4914, 0.4822, 0.4465], std=[0.247, 0.2435, 0.2616])]\n",
      "Files already downloaded and verified\n",
      "Train Mode: Contain 13996 images\n",
      "Files already downloaded and verified\n",
      "Test Mode: Contain 10000 images\n"
     ]
    }
   ],
   "source": [
    "from pycls.datasets.data import Data\n",
    "from pycls.config import cfg\n",
    "cfg.merge_from_file(cfg_path)\n",
    "cfg.DATASET.NAME = dataset_name\n",
    "data_obj = Data(cfg)\n",
    "\n",
    "train_data, train_size = data_obj.getDataset(save_dir='../data', isTrain=True, isDownload=True)\n",
    "trainSet = [i for i in range(train_size)]\n",
    "trainSet = np.array(trainSet, dtype=np.ndarray)\n",
    "train_dataloader = data_obj.getSequentialDataLoader(indexes=trainSet, batch_size=256, data=train_data)\n",
    "\n",
    "test_data, test_size = data_obj.getDataset(save_dir='../data', isTrain=False, isDownload=True)\n",
    "test_dataloader = data_obj.getTestLoader(data=test_data, test_batch_size=cfg.TRAIN.BATCH_SIZE, seed_id=cfg.RNG_SEED)"
   ]
  },
  {
   "cell_type": "code",
   "execution_count": 8,
   "id": "certified-refund",
   "metadata": {},
   "outputs": [],
   "source": [
    "import torch.nn.functional as F\n",
    "\n",
    "@torch.no_grad()\n",
    "def get_predictions(p, dataloader, model, return_features=False):\n",
    "    # Make predictions on a dataset with neighbors\n",
    "    model.eval()\n",
    "    predictions = [[] for _ in range(p['num_heads'])]\n",
    "    probs = [[] for _ in range(p['num_heads'])]\n",
    "    targets = []\n",
    "    if return_features:\n",
    "        ft_dim = get_feature_dimensions_backbone(p)\n",
    "        features = torch.zeros((len(dataloader.sampler), ft_dim)).cuda()\n",
    "    \n",
    "    key_ = 'image'\n",
    "\n",
    "    ptr = 0\n",
    "    for row in tqdm(dataloader, desc=\"Extracting Self Label Predictions\"):\n",
    "#         images = row['image']\n",
    "#         lbl = row['target']\n",
    "        images, lbl = row\n",
    "        images = images.cuda()\n",
    "        output = model(images, forward_pass='default')\n",
    "        for i, output_i in enumerate(output):\n",
    "            predictions[i].append(torch.argmax(output_i, dim=1))\n",
    "        targets.append(lbl)\n",
    "\n",
    "    predictions = [torch.cat(pred_, dim=0) for pred_ in predictions]\n",
    "    targets = torch.cat(targets, dim=0)\n",
    "\n",
    "    out = [{'predictions': pred_, 'targets': targets} for pred_, prob_ in zip(predictions, probs)]\n",
    "\n",
    "    if return_features:\n",
    "        return out, features.cpu()\n",
    "    else:\n",
    "        return out"
   ]
  },
  {
   "cell_type": "code",
   "execution_count": 9,
   "id": "false-starter",
   "metadata": {},
   "outputs": [],
   "source": [
    "# from utils.evaluate_utils import get_predictions"
   ]
  },
  {
   "cell_type": "code",
   "execution_count": 10,
   "id": "juvenile-sequence",
   "metadata": {},
   "outputs": [
    {
     "name": "stderr",
     "output_type": "stream",
     "text": [
      "Extracting Self Label Predictions: 100%|██████████| 55/55 [00:04<00:00, 13.52it/s]\n"
     ]
    }
   ],
   "source": [
    "predictions = get_predictions(p, train_dataloader, model)"
   ]
  },
  {
   "cell_type": "markdown",
   "id": "contained-richards",
   "metadata": {},
   "source": [
    "#### Note: Stats are irrelevant for CIFAR100"
   ]
  },
  {
   "cell_type": "code",
   "execution_count": 11,
   "id": "prospective-ghana",
   "metadata": {},
   "outputs": [],
   "source": [
    "clustering_stats = hungarian_evaluate2(0, predictions, \n",
    "                                class_names=train_data.classes,\n",
    "                                compute_confusion_matrix=False,\n",
    "                                confusion_matrix_file=os.path.join('confusion_matrix.png'))"
   ]
  },
  {
   "cell_type": "code",
   "execution_count": 12,
   "id": "optimum-owner",
   "metadata": {},
   "outputs": [
    {
     "data": {
      "text/plain": [
       "{'ACC': 0.29351243212346384,\n",
       " 'ARI': -0.012018654655578461,\n",
       " 'NMI': 0.022166544097787316,\n",
       " 'hungarian_match': [(0, 5),\n",
       "  (1, 7),\n",
       "  (2, 2),\n",
       "  (3, 8),\n",
       "  (4, 1),\n",
       "  (5, 4),\n",
       "  (6, 6),\n",
       "  (7, 9),\n",
       "  (8, 3),\n",
       "  (9, 0)]}"
      ]
     },
     "execution_count": 12,
     "metadata": {},
     "output_type": "execute_result"
    }
   ],
   "source": [
    "clustering_stats"
   ]
  },
  {
   "cell_type": "code",
   "execution_count": 13,
   "id": "norwegian-budapest",
   "metadata": {},
   "outputs": [
    {
     "data": {
      "text/plain": [
       "tensor([9, 9, 9,  ..., 9, 8, 9])"
      ]
     },
     "execution_count": 13,
     "metadata": {},
     "output_type": "execute_result"
    }
   ],
   "source": [
    "predictions[0]['predictions'].cpu()"
   ]
  },
  {
   "cell_type": "code",
   "execution_count": 14,
   "id": "unauthorized-morgan",
   "metadata": {},
   "outputs": [],
   "source": [
    "np.save(f'{output_folder}/{dataset_name}_SCAN_cluster_ids.npy', predictions[0]['predictions'].cpu())"
   ]
  },
  {
   "cell_type": "code",
   "execution_count": null,
   "id": "original-jackson",
   "metadata": {},
   "outputs": [],
   "source": []
  }
 ],
 "metadata": {
  "kernelspec": {
   "display_name": "Python 3",
   "language": "python",
   "name": "python3"
  },
  "language_info": {
   "codemirror_mode": {
    "name": "ipython",
    "version": 3
   },
   "file_extension": ".py",
   "mimetype": "text/x-python",
   "name": "python",
   "nbconvert_exporter": "python",
   "pygments_lexer": "ipython3",
   "version": "3.8.8"
  }
 },
 "nbformat": 4,
 "nbformat_minor": 5
}
